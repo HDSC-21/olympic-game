{
 "cells": [
  {
   "cell_type": "code",
   "execution_count": 1,
   "metadata": {},
   "outputs": [],
   "source": [
    "import numpy as np\n",
    "import pandas as pd\n",
    "import matplotlib.pyplot as plt\n",
    "import seaborn as sns\n",
    "import joblib\n",
    "%matplotlib inline\n",
    "sns.set()\n",
    "import sklearn\n",
    "import warnings\n",
    "warnings.filterwarnings(\"ignore\") #REMOVES ANNOYING WARNINGS\n",
    "from collections import Counter"
   ]
  },
  {
   "cell_type": "code",
   "execution_count": 2,
   "metadata": {},
   "outputs": [],
   "source": [
    "### Random seed\n",
    "seed = np.random.default_rng(2021)"
   ]
  },
  {
   "cell_type": "code",
   "execution_count": 3,
   "metadata": {},
   "outputs": [],
   "source": [
    "pd.set_option('display.max_columns', None) #VIEW ALL COLUMNS BECAUSE SOME ARE HIDDEN BY DEFAULT"
   ]
  },
  {
   "cell_type": "code",
   "execution_count": 4,
   "metadata": {},
   "outputs": [],
   "source": [
    "df_summer = pd.read_csv(\"summer.csv\")"
   ]
  },
  {
   "cell_type": "code",
   "execution_count": 5,
   "metadata": {},
   "outputs": [
    {
     "data": {
      "text/html": [
       "<div>\n",
       "<style scoped>\n",
       "    .dataframe tbody tr th:only-of-type {\n",
       "        vertical-align: middle;\n",
       "    }\n",
       "\n",
       "    .dataframe tbody tr th {\n",
       "        vertical-align: top;\n",
       "    }\n",
       "\n",
       "    .dataframe thead th {\n",
       "        text-align: right;\n",
       "    }\n",
       "</style>\n",
       "<table border=\"1\" class=\"dataframe\">\n",
       "  <thead>\n",
       "    <tr style=\"text-align: right;\">\n",
       "      <th></th>\n",
       "      <th>Year</th>\n",
       "      <th>City</th>\n",
       "      <th>Sport</th>\n",
       "      <th>Discipline</th>\n",
       "      <th>Athlete</th>\n",
       "      <th>Country</th>\n",
       "      <th>Gender</th>\n",
       "      <th>Event</th>\n",
       "      <th>Medal</th>\n",
       "    </tr>\n",
       "  </thead>\n",
       "  <tbody>\n",
       "    <tr>\n",
       "      <th>0</th>\n",
       "      <td>1896</td>\n",
       "      <td>Athens</td>\n",
       "      <td>Aquatics</td>\n",
       "      <td>Swimming</td>\n",
       "      <td>HAJOS, Alfred</td>\n",
       "      <td>HUN</td>\n",
       "      <td>Men</td>\n",
       "      <td>100M Freestyle</td>\n",
       "      <td>Gold</td>\n",
       "    </tr>\n",
       "    <tr>\n",
       "      <th>1</th>\n",
       "      <td>1896</td>\n",
       "      <td>Athens</td>\n",
       "      <td>Aquatics</td>\n",
       "      <td>Swimming</td>\n",
       "      <td>HERSCHMANN, Otto</td>\n",
       "      <td>AUT</td>\n",
       "      <td>Men</td>\n",
       "      <td>100M Freestyle</td>\n",
       "      <td>Silver</td>\n",
       "    </tr>\n",
       "    <tr>\n",
       "      <th>2</th>\n",
       "      <td>1896</td>\n",
       "      <td>Athens</td>\n",
       "      <td>Aquatics</td>\n",
       "      <td>Swimming</td>\n",
       "      <td>DRIVAS, Dimitrios</td>\n",
       "      <td>GRE</td>\n",
       "      <td>Men</td>\n",
       "      <td>100M Freestyle For Sailors</td>\n",
       "      <td>Bronze</td>\n",
       "    </tr>\n",
       "    <tr>\n",
       "      <th>3</th>\n",
       "      <td>1896</td>\n",
       "      <td>Athens</td>\n",
       "      <td>Aquatics</td>\n",
       "      <td>Swimming</td>\n",
       "      <td>MALOKINIS, Ioannis</td>\n",
       "      <td>GRE</td>\n",
       "      <td>Men</td>\n",
       "      <td>100M Freestyle For Sailors</td>\n",
       "      <td>Gold</td>\n",
       "    </tr>\n",
       "    <tr>\n",
       "      <th>4</th>\n",
       "      <td>1896</td>\n",
       "      <td>Athens</td>\n",
       "      <td>Aquatics</td>\n",
       "      <td>Swimming</td>\n",
       "      <td>CHASAPIS, Spiridon</td>\n",
       "      <td>GRE</td>\n",
       "      <td>Men</td>\n",
       "      <td>100M Freestyle For Sailors</td>\n",
       "      <td>Silver</td>\n",
       "    </tr>\n",
       "  </tbody>\n",
       "</table>\n",
       "</div>"
      ],
      "text/plain": [
       "   Year    City     Sport Discipline             Athlete Country Gender  \\\n",
       "0  1896  Athens  Aquatics   Swimming       HAJOS, Alfred     HUN    Men   \n",
       "1  1896  Athens  Aquatics   Swimming    HERSCHMANN, Otto     AUT    Men   \n",
       "2  1896  Athens  Aquatics   Swimming   DRIVAS, Dimitrios     GRE    Men   \n",
       "3  1896  Athens  Aquatics   Swimming  MALOKINIS, Ioannis     GRE    Men   \n",
       "4  1896  Athens  Aquatics   Swimming  CHASAPIS, Spiridon     GRE    Men   \n",
       "\n",
       "                        Event   Medal  \n",
       "0              100M Freestyle    Gold  \n",
       "1              100M Freestyle  Silver  \n",
       "2  100M Freestyle For Sailors  Bronze  \n",
       "3  100M Freestyle For Sailors    Gold  \n",
       "4  100M Freestyle For Sailors  Silver  "
      ]
     },
     "execution_count": 5,
     "metadata": {},
     "output_type": "execute_result"
    }
   ],
   "source": [
    "df_summer.head()"
   ]
  },
  {
   "cell_type": "code",
   "execution_count": 6,
   "metadata": {},
   "outputs": [],
   "source": [
    "df_summer[\"season\"] = \"summer\" #adding a season column"
   ]
  },
  {
   "cell_type": "code",
   "execution_count": 7,
   "metadata": {},
   "outputs": [
    {
     "data": {
      "text/html": [
       "<div>\n",
       "<style scoped>\n",
       "    .dataframe tbody tr th:only-of-type {\n",
       "        vertical-align: middle;\n",
       "    }\n",
       "\n",
       "    .dataframe tbody tr th {\n",
       "        vertical-align: top;\n",
       "    }\n",
       "\n",
       "    .dataframe thead th {\n",
       "        text-align: right;\n",
       "    }\n",
       "</style>\n",
       "<table border=\"1\" class=\"dataframe\">\n",
       "  <thead>\n",
       "    <tr style=\"text-align: right;\">\n",
       "      <th></th>\n",
       "      <th>Year</th>\n",
       "      <th>City</th>\n",
       "      <th>Sport</th>\n",
       "      <th>Discipline</th>\n",
       "      <th>Athlete</th>\n",
       "      <th>Country</th>\n",
       "      <th>Gender</th>\n",
       "      <th>Event</th>\n",
       "      <th>Medal</th>\n",
       "      <th>season</th>\n",
       "    </tr>\n",
       "  </thead>\n",
       "  <tbody>\n",
       "    <tr>\n",
       "      <th>0</th>\n",
       "      <td>1896</td>\n",
       "      <td>Athens</td>\n",
       "      <td>Aquatics</td>\n",
       "      <td>Swimming</td>\n",
       "      <td>HAJOS, Alfred</td>\n",
       "      <td>HUN</td>\n",
       "      <td>Men</td>\n",
       "      <td>100M Freestyle</td>\n",
       "      <td>Gold</td>\n",
       "      <td>summer</td>\n",
       "    </tr>\n",
       "    <tr>\n",
       "      <th>1</th>\n",
       "      <td>1896</td>\n",
       "      <td>Athens</td>\n",
       "      <td>Aquatics</td>\n",
       "      <td>Swimming</td>\n",
       "      <td>HERSCHMANN, Otto</td>\n",
       "      <td>AUT</td>\n",
       "      <td>Men</td>\n",
       "      <td>100M Freestyle</td>\n",
       "      <td>Silver</td>\n",
       "      <td>summer</td>\n",
       "    </tr>\n",
       "    <tr>\n",
       "      <th>2</th>\n",
       "      <td>1896</td>\n",
       "      <td>Athens</td>\n",
       "      <td>Aquatics</td>\n",
       "      <td>Swimming</td>\n",
       "      <td>DRIVAS, Dimitrios</td>\n",
       "      <td>GRE</td>\n",
       "      <td>Men</td>\n",
       "      <td>100M Freestyle For Sailors</td>\n",
       "      <td>Bronze</td>\n",
       "      <td>summer</td>\n",
       "    </tr>\n",
       "    <tr>\n",
       "      <th>3</th>\n",
       "      <td>1896</td>\n",
       "      <td>Athens</td>\n",
       "      <td>Aquatics</td>\n",
       "      <td>Swimming</td>\n",
       "      <td>MALOKINIS, Ioannis</td>\n",
       "      <td>GRE</td>\n",
       "      <td>Men</td>\n",
       "      <td>100M Freestyle For Sailors</td>\n",
       "      <td>Gold</td>\n",
       "      <td>summer</td>\n",
       "    </tr>\n",
       "    <tr>\n",
       "      <th>4</th>\n",
       "      <td>1896</td>\n",
       "      <td>Athens</td>\n",
       "      <td>Aquatics</td>\n",
       "      <td>Swimming</td>\n",
       "      <td>CHASAPIS, Spiridon</td>\n",
       "      <td>GRE</td>\n",
       "      <td>Men</td>\n",
       "      <td>100M Freestyle For Sailors</td>\n",
       "      <td>Silver</td>\n",
       "      <td>summer</td>\n",
       "    </tr>\n",
       "  </tbody>\n",
       "</table>\n",
       "</div>"
      ],
      "text/plain": [
       "   Year    City     Sport Discipline             Athlete Country Gender  \\\n",
       "0  1896  Athens  Aquatics   Swimming       HAJOS, Alfred     HUN    Men   \n",
       "1  1896  Athens  Aquatics   Swimming    HERSCHMANN, Otto     AUT    Men   \n",
       "2  1896  Athens  Aquatics   Swimming   DRIVAS, Dimitrios     GRE    Men   \n",
       "3  1896  Athens  Aquatics   Swimming  MALOKINIS, Ioannis     GRE    Men   \n",
       "4  1896  Athens  Aquatics   Swimming  CHASAPIS, Spiridon     GRE    Men   \n",
       "\n",
       "                        Event   Medal  season  \n",
       "0              100M Freestyle    Gold  summer  \n",
       "1              100M Freestyle  Silver  summer  \n",
       "2  100M Freestyle For Sailors  Bronze  summer  \n",
       "3  100M Freestyle For Sailors    Gold  summer  \n",
       "4  100M Freestyle For Sailors  Silver  summer  "
      ]
     },
     "execution_count": 7,
     "metadata": {},
     "output_type": "execute_result"
    }
   ],
   "source": [
    "df_summer.head()"
   ]
  },
  {
   "cell_type": "code",
   "execution_count": 8,
   "metadata": {},
   "outputs": [],
   "source": [
    "df_winter = pd.read_csv(\"winter.csv\")"
   ]
  },
  {
   "cell_type": "code",
   "execution_count": 9,
   "metadata": {},
   "outputs": [],
   "source": [
    "df_winter[\"season\"] = \"winter\" #adding a season column"
   ]
  },
  {
   "cell_type": "code",
   "execution_count": 10,
   "metadata": {},
   "outputs": [
    {
     "data": {
      "text/html": [
       "<div>\n",
       "<style scoped>\n",
       "    .dataframe tbody tr th:only-of-type {\n",
       "        vertical-align: middle;\n",
       "    }\n",
       "\n",
       "    .dataframe tbody tr th {\n",
       "        vertical-align: top;\n",
       "    }\n",
       "\n",
       "    .dataframe thead th {\n",
       "        text-align: right;\n",
       "    }\n",
       "</style>\n",
       "<table border=\"1\" class=\"dataframe\">\n",
       "  <thead>\n",
       "    <tr style=\"text-align: right;\">\n",
       "      <th></th>\n",
       "      <th>Year</th>\n",
       "      <th>City</th>\n",
       "      <th>Sport</th>\n",
       "      <th>Discipline</th>\n",
       "      <th>Athlete</th>\n",
       "      <th>Country</th>\n",
       "      <th>Gender</th>\n",
       "      <th>Event</th>\n",
       "      <th>Medal</th>\n",
       "      <th>season</th>\n",
       "    </tr>\n",
       "  </thead>\n",
       "  <tbody>\n",
       "    <tr>\n",
       "      <th>0</th>\n",
       "      <td>1924</td>\n",
       "      <td>Chamonix</td>\n",
       "      <td>Biathlon</td>\n",
       "      <td>Biathlon</td>\n",
       "      <td>BERTHET, G.</td>\n",
       "      <td>FRA</td>\n",
       "      <td>Men</td>\n",
       "      <td>Military Patrol</td>\n",
       "      <td>Bronze</td>\n",
       "      <td>winter</td>\n",
       "    </tr>\n",
       "    <tr>\n",
       "      <th>1</th>\n",
       "      <td>1924</td>\n",
       "      <td>Chamonix</td>\n",
       "      <td>Biathlon</td>\n",
       "      <td>Biathlon</td>\n",
       "      <td>MANDRILLON, C.</td>\n",
       "      <td>FRA</td>\n",
       "      <td>Men</td>\n",
       "      <td>Military Patrol</td>\n",
       "      <td>Bronze</td>\n",
       "      <td>winter</td>\n",
       "    </tr>\n",
       "    <tr>\n",
       "      <th>2</th>\n",
       "      <td>1924</td>\n",
       "      <td>Chamonix</td>\n",
       "      <td>Biathlon</td>\n",
       "      <td>Biathlon</td>\n",
       "      <td>MANDRILLON, Maurice</td>\n",
       "      <td>FRA</td>\n",
       "      <td>Men</td>\n",
       "      <td>Military Patrol</td>\n",
       "      <td>Bronze</td>\n",
       "      <td>winter</td>\n",
       "    </tr>\n",
       "    <tr>\n",
       "      <th>3</th>\n",
       "      <td>1924</td>\n",
       "      <td>Chamonix</td>\n",
       "      <td>Biathlon</td>\n",
       "      <td>Biathlon</td>\n",
       "      <td>VANDELLE, André</td>\n",
       "      <td>FRA</td>\n",
       "      <td>Men</td>\n",
       "      <td>Military Patrol</td>\n",
       "      <td>Bronze</td>\n",
       "      <td>winter</td>\n",
       "    </tr>\n",
       "    <tr>\n",
       "      <th>4</th>\n",
       "      <td>1924</td>\n",
       "      <td>Chamonix</td>\n",
       "      <td>Biathlon</td>\n",
       "      <td>Biathlon</td>\n",
       "      <td>AUFDENBLATTEN, Adolf</td>\n",
       "      <td>SUI</td>\n",
       "      <td>Men</td>\n",
       "      <td>Military Patrol</td>\n",
       "      <td>Gold</td>\n",
       "      <td>winter</td>\n",
       "    </tr>\n",
       "  </tbody>\n",
       "</table>\n",
       "</div>"
      ],
      "text/plain": [
       "   Year      City     Sport Discipline               Athlete Country Gender  \\\n",
       "0  1924  Chamonix  Biathlon   Biathlon           BERTHET, G.     FRA    Men   \n",
       "1  1924  Chamonix  Biathlon   Biathlon        MANDRILLON, C.     FRA    Men   \n",
       "2  1924  Chamonix  Biathlon   Biathlon   MANDRILLON, Maurice     FRA    Men   \n",
       "3  1924  Chamonix  Biathlon   Biathlon       VANDELLE, André     FRA    Men   \n",
       "4  1924  Chamonix  Biathlon   Biathlon  AUFDENBLATTEN, Adolf     SUI    Men   \n",
       "\n",
       "             Event   Medal  season  \n",
       "0  Military Patrol  Bronze  winter  \n",
       "1  Military Patrol  Bronze  winter  \n",
       "2  Military Patrol  Bronze  winter  \n",
       "3  Military Patrol  Bronze  winter  \n",
       "4  Military Patrol    Gold  winter  "
      ]
     },
     "execution_count": 10,
     "metadata": {},
     "output_type": "execute_result"
    }
   ],
   "source": [
    "df_winter.head()"
   ]
  },
  {
   "cell_type": "code",
   "execution_count": null,
   "metadata": {},
   "outputs": [],
   "source": []
  },
  {
   "cell_type": "code",
   "execution_count": 11,
   "metadata": {},
   "outputs": [],
   "source": [
    "df_total = df_summer.append(df_winter,ignore_index=True)#Merging the two datasets, winter and summer with the season column as a new feature"
   ]
  },
  {
   "cell_type": "code",
   "execution_count": 12,
   "metadata": {},
   "outputs": [],
   "source": [
    "df_total.dropna(inplace=True)"
   ]
  },
  {
   "cell_type": "code",
   "execution_count": 13,
   "metadata": {},
   "outputs": [
    {
     "data": {
      "text/html": [
       "<div>\n",
       "<style scoped>\n",
       "    .dataframe tbody tr th:only-of-type {\n",
       "        vertical-align: middle;\n",
       "    }\n",
       "\n",
       "    .dataframe tbody tr th {\n",
       "        vertical-align: top;\n",
       "    }\n",
       "\n",
       "    .dataframe thead th {\n",
       "        text-align: right;\n",
       "    }\n",
       "</style>\n",
       "<table border=\"1\" class=\"dataframe\">\n",
       "  <thead>\n",
       "    <tr style=\"text-align: right;\">\n",
       "      <th></th>\n",
       "      <th>Year</th>\n",
       "      <th>City</th>\n",
       "      <th>Sport</th>\n",
       "      <th>Discipline</th>\n",
       "      <th>Athlete</th>\n",
       "      <th>Country</th>\n",
       "      <th>Gender</th>\n",
       "      <th>Event</th>\n",
       "      <th>Medal</th>\n",
       "      <th>season</th>\n",
       "    </tr>\n",
       "  </thead>\n",
       "  <tbody>\n",
       "    <tr>\n",
       "      <th>0</th>\n",
       "      <td>1896</td>\n",
       "      <td>Athens</td>\n",
       "      <td>Aquatics</td>\n",
       "      <td>Swimming</td>\n",
       "      <td>HAJOS, Alfred</td>\n",
       "      <td>HUN</td>\n",
       "      <td>Men</td>\n",
       "      <td>100M Freestyle</td>\n",
       "      <td>Gold</td>\n",
       "      <td>summer</td>\n",
       "    </tr>\n",
       "    <tr>\n",
       "      <th>1</th>\n",
       "      <td>1896</td>\n",
       "      <td>Athens</td>\n",
       "      <td>Aquatics</td>\n",
       "      <td>Swimming</td>\n",
       "      <td>HERSCHMANN, Otto</td>\n",
       "      <td>AUT</td>\n",
       "      <td>Men</td>\n",
       "      <td>100M Freestyle</td>\n",
       "      <td>Silver</td>\n",
       "      <td>summer</td>\n",
       "    </tr>\n",
       "    <tr>\n",
       "      <th>2</th>\n",
       "      <td>1896</td>\n",
       "      <td>Athens</td>\n",
       "      <td>Aquatics</td>\n",
       "      <td>Swimming</td>\n",
       "      <td>DRIVAS, Dimitrios</td>\n",
       "      <td>GRE</td>\n",
       "      <td>Men</td>\n",
       "      <td>100M Freestyle For Sailors</td>\n",
       "      <td>Bronze</td>\n",
       "      <td>summer</td>\n",
       "    </tr>\n",
       "    <tr>\n",
       "      <th>3</th>\n",
       "      <td>1896</td>\n",
       "      <td>Athens</td>\n",
       "      <td>Aquatics</td>\n",
       "      <td>Swimming</td>\n",
       "      <td>MALOKINIS, Ioannis</td>\n",
       "      <td>GRE</td>\n",
       "      <td>Men</td>\n",
       "      <td>100M Freestyle For Sailors</td>\n",
       "      <td>Gold</td>\n",
       "      <td>summer</td>\n",
       "    </tr>\n",
       "    <tr>\n",
       "      <th>4</th>\n",
       "      <td>1896</td>\n",
       "      <td>Athens</td>\n",
       "      <td>Aquatics</td>\n",
       "      <td>Swimming</td>\n",
       "      <td>CHASAPIS, Spiridon</td>\n",
       "      <td>GRE</td>\n",
       "      <td>Men</td>\n",
       "      <td>100M Freestyle For Sailors</td>\n",
       "      <td>Silver</td>\n",
       "      <td>summer</td>\n",
       "    </tr>\n",
       "  </tbody>\n",
       "</table>\n",
       "</div>"
      ],
      "text/plain": [
       "   Year    City     Sport Discipline             Athlete Country Gender  \\\n",
       "0  1896  Athens  Aquatics   Swimming       HAJOS, Alfred     HUN    Men   \n",
       "1  1896  Athens  Aquatics   Swimming    HERSCHMANN, Otto     AUT    Men   \n",
       "2  1896  Athens  Aquatics   Swimming   DRIVAS, Dimitrios     GRE    Men   \n",
       "3  1896  Athens  Aquatics   Swimming  MALOKINIS, Ioannis     GRE    Men   \n",
       "4  1896  Athens  Aquatics   Swimming  CHASAPIS, Spiridon     GRE    Men   \n",
       "\n",
       "                        Event   Medal  season  \n",
       "0              100M Freestyle    Gold  summer  \n",
       "1              100M Freestyle  Silver  summer  \n",
       "2  100M Freestyle For Sailors  Bronze  summer  \n",
       "3  100M Freestyle For Sailors    Gold  summer  \n",
       "4  100M Freestyle For Sailors  Silver  summer  "
      ]
     },
     "execution_count": 13,
     "metadata": {},
     "output_type": "execute_result"
    }
   ],
   "source": [
    "df_total.head()"
   ]
  },
  {
   "cell_type": "code",
   "execution_count": 14,
   "metadata": {},
   "outputs": [
    {
     "data": {
      "text/html": [
       "<div>\n",
       "<style scoped>\n",
       "    .dataframe tbody tr th:only-of-type {\n",
       "        vertical-align: middle;\n",
       "    }\n",
       "\n",
       "    .dataframe tbody tr th {\n",
       "        vertical-align: top;\n",
       "    }\n",
       "\n",
       "    .dataframe thead th {\n",
       "        text-align: right;\n",
       "    }\n",
       "</style>\n",
       "<table border=\"1\" class=\"dataframe\">\n",
       "  <thead>\n",
       "    <tr style=\"text-align: right;\">\n",
       "      <th></th>\n",
       "      <th>Year</th>\n",
       "      <th>City</th>\n",
       "      <th>Sport</th>\n",
       "      <th>Discipline</th>\n",
       "      <th>Athlete</th>\n",
       "      <th>Country</th>\n",
       "      <th>Gender</th>\n",
       "      <th>Event</th>\n",
       "      <th>Medal</th>\n",
       "      <th>season</th>\n",
       "    </tr>\n",
       "  </thead>\n",
       "  <tbody>\n",
       "    <tr>\n",
       "      <th>count</th>\n",
       "      <td>36931.000000</td>\n",
       "      <td>36931</td>\n",
       "      <td>36931</td>\n",
       "      <td>36931</td>\n",
       "      <td>36931</td>\n",
       "      <td>36931</td>\n",
       "      <td>36931</td>\n",
       "      <td>36931</td>\n",
       "      <td>36931</td>\n",
       "      <td>36931</td>\n",
       "    </tr>\n",
       "    <tr>\n",
       "      <th>unique</th>\n",
       "      <td>NaN</td>\n",
       "      <td>41</td>\n",
       "      <td>48</td>\n",
       "      <td>80</td>\n",
       "      <td>26494</td>\n",
       "      <td>148</td>\n",
       "      <td>2</td>\n",
       "      <td>733</td>\n",
       "      <td>3</td>\n",
       "      <td>2</td>\n",
       "    </tr>\n",
       "    <tr>\n",
       "      <th>top</th>\n",
       "      <td>NaN</td>\n",
       "      <td>London</td>\n",
       "      <td>Aquatics</td>\n",
       "      <td>Athletics</td>\n",
       "      <td>PHELPS, Michael</td>\n",
       "      <td>USA</td>\n",
       "      <td>Men</td>\n",
       "      <td>Ice Hockey</td>\n",
       "      <td>Gold</td>\n",
       "      <td>summer</td>\n",
       "    </tr>\n",
       "    <tr>\n",
       "      <th>freq</th>\n",
       "      <td>NaN</td>\n",
       "      <td>3563</td>\n",
       "      <td>4170</td>\n",
       "      <td>3637</td>\n",
       "      <td>22</td>\n",
       "      <td>5238</td>\n",
       "      <td>26688</td>\n",
       "      <td>1563</td>\n",
       "      <td>12405</td>\n",
       "      <td>31161</td>\n",
       "    </tr>\n",
       "    <tr>\n",
       "      <th>mean</th>\n",
       "      <td>1972.957407</td>\n",
       "      <td>NaN</td>\n",
       "      <td>NaN</td>\n",
       "      <td>NaN</td>\n",
       "      <td>NaN</td>\n",
       "      <td>NaN</td>\n",
       "      <td>NaN</td>\n",
       "      <td>NaN</td>\n",
       "      <td>NaN</td>\n",
       "      <td>NaN</td>\n",
       "    </tr>\n",
       "    <tr>\n",
       "      <th>std</th>\n",
       "      <td>32.447047</td>\n",
       "      <td>NaN</td>\n",
       "      <td>NaN</td>\n",
       "      <td>NaN</td>\n",
       "      <td>NaN</td>\n",
       "      <td>NaN</td>\n",
       "      <td>NaN</td>\n",
       "      <td>NaN</td>\n",
       "      <td>NaN</td>\n",
       "      <td>NaN</td>\n",
       "    </tr>\n",
       "    <tr>\n",
       "      <th>min</th>\n",
       "      <td>1896.000000</td>\n",
       "      <td>NaN</td>\n",
       "      <td>NaN</td>\n",
       "      <td>NaN</td>\n",
       "      <td>NaN</td>\n",
       "      <td>NaN</td>\n",
       "      <td>NaN</td>\n",
       "      <td>NaN</td>\n",
       "      <td>NaN</td>\n",
       "      <td>NaN</td>\n",
       "    </tr>\n",
       "    <tr>\n",
       "      <th>25%</th>\n",
       "      <td>1952.000000</td>\n",
       "      <td>NaN</td>\n",
       "      <td>NaN</td>\n",
       "      <td>NaN</td>\n",
       "      <td>NaN</td>\n",
       "      <td>NaN</td>\n",
       "      <td>NaN</td>\n",
       "      <td>NaN</td>\n",
       "      <td>NaN</td>\n",
       "      <td>NaN</td>\n",
       "    </tr>\n",
       "    <tr>\n",
       "      <th>50%</th>\n",
       "      <td>1980.000000</td>\n",
       "      <td>NaN</td>\n",
       "      <td>NaN</td>\n",
       "      <td>NaN</td>\n",
       "      <td>NaN</td>\n",
       "      <td>NaN</td>\n",
       "      <td>NaN</td>\n",
       "      <td>NaN</td>\n",
       "      <td>NaN</td>\n",
       "      <td>NaN</td>\n",
       "    </tr>\n",
       "    <tr>\n",
       "      <th>75%</th>\n",
       "      <td>2000.000000</td>\n",
       "      <td>NaN</td>\n",
       "      <td>NaN</td>\n",
       "      <td>NaN</td>\n",
       "      <td>NaN</td>\n",
       "      <td>NaN</td>\n",
       "      <td>NaN</td>\n",
       "      <td>NaN</td>\n",
       "      <td>NaN</td>\n",
       "      <td>NaN</td>\n",
       "    </tr>\n",
       "    <tr>\n",
       "      <th>max</th>\n",
       "      <td>2014.000000</td>\n",
       "      <td>NaN</td>\n",
       "      <td>NaN</td>\n",
       "      <td>NaN</td>\n",
       "      <td>NaN</td>\n",
       "      <td>NaN</td>\n",
       "      <td>NaN</td>\n",
       "      <td>NaN</td>\n",
       "      <td>NaN</td>\n",
       "      <td>NaN</td>\n",
       "    </tr>\n",
       "  </tbody>\n",
       "</table>\n",
       "</div>"
      ],
      "text/plain": [
       "                Year    City     Sport Discipline          Athlete Country  \\\n",
       "count   36931.000000   36931     36931      36931            36931   36931   \n",
       "unique           NaN      41        48         80            26494     148   \n",
       "top              NaN  London  Aquatics  Athletics  PHELPS, Michael     USA   \n",
       "freq             NaN    3563      4170       3637               22    5238   \n",
       "mean     1972.957407     NaN       NaN        NaN              NaN     NaN   \n",
       "std        32.447047     NaN       NaN        NaN              NaN     NaN   \n",
       "min      1896.000000     NaN       NaN        NaN              NaN     NaN   \n",
       "25%      1952.000000     NaN       NaN        NaN              NaN     NaN   \n",
       "50%      1980.000000     NaN       NaN        NaN              NaN     NaN   \n",
       "75%      2000.000000     NaN       NaN        NaN              NaN     NaN   \n",
       "max      2014.000000     NaN       NaN        NaN              NaN     NaN   \n",
       "\n",
       "       Gender       Event  Medal  season  \n",
       "count   36931       36931  36931   36931  \n",
       "unique      2         733      3       2  \n",
       "top       Men  Ice Hockey   Gold  summer  \n",
       "freq    26688        1563  12405   31161  \n",
       "mean      NaN         NaN    NaN     NaN  \n",
       "std       NaN         NaN    NaN     NaN  \n",
       "min       NaN         NaN    NaN     NaN  \n",
       "25%       NaN         NaN    NaN     NaN  \n",
       "50%       NaN         NaN    NaN     NaN  \n",
       "75%       NaN         NaN    NaN     NaN  \n",
       "max       NaN         NaN    NaN     NaN  "
      ]
     },
     "execution_count": 14,
     "metadata": {},
     "output_type": "execute_result"
    }
   ],
   "source": [
    "df_total.describe(include=\"all\")"
   ]
  },
  {
   "cell_type": "code",
   "execution_count": 15,
   "metadata": {},
   "outputs": [
    {
     "data": {
      "text/plain": [
       "array(['100M Freestyle', '100M Freestyle For Sailors', '1200M Freestyle',\n",
       "       '400M Freestyle', '100M', '110M Hurdles', '1500M', '400M', '800M',\n",
       "       'Discus Throw', 'High Jump', 'Long Jump', 'Marathon', 'Pole Vault',\n",
       "       'Shot Put', 'Triple Jump', 'Individual Road Race', '100KM', '10KM',\n",
       "       '12-Hour Race', '1KM Time Trial', 'Sprint Indivual',\n",
       "       'Foil Individual', 'Foil, Masters', 'Sabre Individual',\n",
       "       'Horizontal Bar', 'Parallel Bars', 'Pommel Horse', 'Rings',\n",
       "       'Rope Climbing', 'Team, Horizontal Bar', 'Team, Parallel Bars',\n",
       "       'Vault', '25M Army Pistol', '25M Rapid Fire Pistol (60 Shots)',\n",
       "       '50M Pistol (60 Shots)', 'Army Rifle, 200M', 'Army Rifle, 300M',\n",
       "       'Doubles', 'Singles', 'Heavyweight - One Hand Lift',\n",
       "       'Heavyweight - Two Hand Lift', 'Open Event', '1500M Freestyle',\n",
       "       '200M Backstroke', '200M Freestyle', '200M Obstacle Event',\n",
       "       '200M Team Swimming', '4000M Freestyle', 'Underwater Swimming',\n",
       "       'Water Polo', 'Au Chapelet, 33M', 'Au Chapelet, 50M',\n",
       "       'Au Cordon Doré, 33M', 'Au Cordon Doré, 50M',\n",
       "       'Sur La Perche À La Herse', 'Sur La Perche À La Pyramide', '200M',\n",
       "       '200M Hurdles', '3000M Steeplechase', '4000M Steeplechase',\n",
       "       '400M Hurdles', '5000M Team', '60M', 'Hammer Throw',\n",
       "       'High Jump, Standing', 'Long Jump, Standing',\n",
       "       'Triple Jump, Standing', 'Cesta Punta', 'Cricket', 'Double',\n",
       "       'Individual 1 Ball', 'Individual 2 Balls', '25 Kilometres',\n",
       "       'Individual', 'Long Jump Individual', 'Épée Individual',\n",
       "       'Épée, Amateurs And Masters', 'Épée, Masters', 'Sabre, Masters',\n",
       "       'Football', 'Individual All-Round', 'Polo',\n",
       "       'Eight With Coxswain (8+)', 'Four-Oared Shell With Coxswain (4-)',\n",
       "       'Pair-Oared Shell With Coxswain (2+)', 'Single Sculls (1X)',\n",
       "       'Rugby', '0.5-1T', '10-20T', '3-10T', 'Open Class',\n",
       "       '50M Army Pistol, Team', 'Army Rifle, 300M, 3 Positions',\n",
       "       'Army Rifle, 300M, Kneeling', 'Army Rifle, 300M, Prone',\n",
       "       'Army Rifle, 300M, Standing', 'Free Rifle, Team',\n",
       "       'Trap (125 Targets)', 'Mixed Doubles', 'Tug Of War',\n",
       "       '10M Platform', 'Plunge For Distance', '100M Backstroke',\n",
       "       '400M Breaststroke', '4X50Y Freestyle Relay',\n",
       "       '50Y Freestyle (45.72M)', '880Y Freestyle (804.66M)',\n",
       "       'Double American Round (60Y - 50Y - 40Y)',\n",
       "       'Double Columbia Round (50Y - 40Y - 30Y)',\n",
       "       'Double National Round (60Y - 50Y)',\n",
       "       'Double York Round (100Y - 80Y - 60Y)', 'Team Round 60Y',\n",
       "       'Teams Fita Round', '4Miles Team', '56LB Weight Throw (25.4KG)',\n",
       "       'Decathlon', 'Triathlon (Long Jump / Shot Put / 100 Yards)',\n",
       "       '- 47.63KG (Flyweight)', '+ 71.67KG (Heavyweight)',\n",
       "       '47.63 - 52.16KG (Bantamweight)', '52.16 - 56.7KG (Featherweight)',\n",
       "       '56.7 - 61.24KG (Lightweight)', '61.24 - 65.77KG (Welterweight)',\n",
       "       '65.77 - 71.67KG (Middleweight)', '1 Mile (1609.3M)',\n",
       "       '1/2 Mile (804.7M)', '1/3 Mile (536.5M)', '1/4 Mile (402.3M)',\n",
       "       '2 Miles (3.218KM)', '25 Miles (40.232KM)', '5 Miles (8.046KM)',\n",
       "       'Foil Team', 'Stick, Single', 'Team', 'Club Swinging',\n",
       "       'Combined 3 Events', 'Combined 4 Events', 'Team Competition',\n",
       "       'Lacrosse', 'Coxless Pair (2-)', 'Double Sculls (2X)',\n",
       "       'Four Without Coxswain (4-)', 'All-Around Dumbbell Contest',\n",
       "       '- 47.6KG (Light-Flyweight)', '47.6 - 52.16KG (Flyweight)',\n",
       "       '52.16 - 56.7KG (Bantamweight)', '56.7 - 61.23KG (Featherweight)',\n",
       "       '61.23 - 65.77KG (Lightweight)', '65.77 - 71.67KG (Welterweight)',\n",
       "       '3M Springboard', '200M Breaststroke', '4X200M Freestyle Relay',\n",
       "       'Continental Style 50M', 'National Round (60Y - 50Y)',\n",
       "       'York Round (100Y - 80Y - 60Y)', '10Miles Walk (16093M)',\n",
       "       '3200M Steeplechase', '3500M Walk', '3Miles Team (4828M)',\n",
       "       '4X400M Relay', '5 Miles (8047M)', 'Discus Throw Ancient Style',\n",
       "       'Javelin Throw', 'Javelin Throw Freestyle',\n",
       "       '- 52.62KG (Bantamweight)', '52.62 - 57.15KG (Featherweight)',\n",
       "       '57.15 - 63.5KG (Lightweight)', '63.5 - 71.67KG (Middleweight)',\n",
       "       '1980 Yards Pursuit, Team', '2000M Tandem', '20KM', '5000M',\n",
       "       'One Lap (660Y) Sprint', 'Épée Team', 'Sabre Team', 'Hockey',\n",
       "       '12M', '6M', '7M', '8M', '1000Y Free Rifle, Prone',\n",
       "       '100M Running Deer, Double Shots',\n",
       "       '100M Running Deer, Single Shots',\n",
       "       '100M Running Deer, Single Shots, Team',\n",
       "       '25Y Small Bore Rifle, Disappearing Target',\n",
       "       '25Y Small Bore Rifle, Moving Target',\n",
       "       '300M Free Rifle 3 Positions (3X40 Shots)',\n",
       "       '50+100Y Small Bore Rifle, Team', '50M Rifle Prone (60 Shots)',\n",
       "       '50Y Army Pistol, Team', 'Clay Pigeons, Team', 'Rifle, Team',\n",
       "       'Pairs', 'Special Figures', 'Doubles Indoor', 'Singles Indoor',\n",
       "       '8M Class C', 'Class B Up To 60 Feet', 'Open Class A',\n",
       "       '- 54KG (Bantamweight)', '+ 73KG (Heavyweight)',\n",
       "       '54 - 60.3KG (Featherweight)', '60.3 - 66.6KG (Lightweight)',\n",
       "       '66.6 - 73KG (Middleweight)', '- 66.6KG (Lightweight)',\n",
       "       '+ 93KG (Super Heavyweight)', '73 - 93KG (Light-Heavyweight)',\n",
       "       'Plain High Diving', '4X100M Freestyle Relay', '10000M',\n",
       "       '10000M Walk', '3000M Team', '4X100M Relay',\n",
       "       'Cross Country Individual', 'Cross Country Team',\n",
       "       'Discus Throw, Both Hands', 'Javelin Throw, Both Hands',\n",
       "       'Pentathlon', 'Shot Put, Both Hands', 'Individual Time Trial',\n",
       "       'Team Time Trial', 'Team, Free System', 'Team, Swedish System',\n",
       "       'Individual Competition', 'Coxed Fours Jugriggers', '10M',\n",
       "       '25M Small Bore Rifle, Team', '25M Small Rifle',\n",
       "       '30M Army Pistol, Team', '50M Small Bore Rifle, Team',\n",
       "       '600M Free Rifle', 'Mixed Doubles Indoor',\n",
       "       '- 60KG (Featherweight)', '+ 82.5KG (Super Heavyweight)',\n",
       "       '60 - 67.5KG (Lightweight)', '67.5 - 75KG (Middleweight)',\n",
       "       '75 - 82.5KG (Light-Heavyweight)', 'Fixed Bird Target Large Birds',\n",
       "       'Fixed Bird Target Large Birds Teams',\n",
       "       'Fixed Bird Target Small Bird, Teams',\n",
       "       'Fixed Bird Target Small Birds', 'Moving Bird Target 28M Teams',\n",
       "       'Moving Bird Target 33M Teams', 'Moving Bird Target 50M Teams',\n",
       "       'Moving Bird Target, 28M', 'Moving Bird Target, 33M',\n",
       "       'Moving Bird Target, 50M', '3000M Walk', '- 50.8KG (Flyweight)',\n",
       "       '+ 79.38KG (Heavyweight)', '50.8 - 53.52KG (Bantamweight)',\n",
       "       '53.52 - 57.15KG (Featherweight)', '57.15 - 61.24KG (Lightweight)',\n",
       "       '61.24 - 66.68KG (Welterweight)', '66.68 - 72.57KG (Middleweight)',\n",
       "       '72.57 - 79.38KG (Light-Heavyweight)', '50KM',\n",
       "       'Team Pursuit (4000M)', 'Figure Riding Individual',\n",
       "       'Figure Riding Team', 'Ice Hockey', '10M (Rating 1907)',\n",
       "       '10M (Rating 1919)', '12 Foot Dinghy', '12M (Rating 1907)',\n",
       "       '12M (Rating 1919)', '18 Foot Dinghy', '30M Sq', '40M Sq',\n",
       "       '6.5M (Rating 1919)', '6M (Rating 1907)', '6M (Rating 1919)',\n",
       "       '8M (Rating 1907)', '8M (Rating 1919)',\n",
       "       '100M Running Deer, Double Shots, Team',\n",
       "       '300+600M Free Rifle, Team, Prone', '300M Free Rifle, Prone, Team',\n",
       "       '300M Free Rifle, Standing, Team',\n",
       "       '50M Small Bore Rifle, Standing, Individual',\n",
       "       '600M Free Rifle, Prone', '600M Free Rifle, Team',\n",
       "       '- 60KG, One-Two Hand 3 Events (Featherweight)',\n",
       "       '+ 82.5KG, One-Two Hand 3 Events (Heavyweight)',\n",
       "       '60 - 67.5KG, One-Two Hand 3 Events (Lightweight)',\n",
       "       '67.5 - 75KG, One-Two Hand 3 Events (Middleweight)',\n",
       "       '75 - 82.5KG, One-Two Hand 3 E. (Light-Heavyweight)',\n",
       "       '+ 80KG (Heavyweight)', '75 - 80KG (Light-Heavyweight)',\n",
       "       '+ 82KG (Super Heavyweight)', '75 - 82KG (Light-Heavyweight)',\n",
       "       'Sidehorse Vault', 'Olympic Class Monotype',\n",
       "       '400, 600, 800M Free Rifle, Team', '600M Free Rifle, Individual',\n",
       "       '- 60KG, One-Two Hand 5 Events (Featherweight)',\n",
       "       '+ 82.5KG, One-Two Hand 5 Events (Heavyweight)',\n",
       "       '60 - 67.5KG, One-Two Hand 5 Events (Lightweight)',\n",
       "       '67.5 - 75KG, One-Two Hand 5 Events (Middleweight)',\n",
       "       '75 - 82.5KG, One-Two Hand 5 E. (Light-Heavyweight)',\n",
       "       '- 56KG (Bantamweight)', '+ 87KG (Heavyweight)',\n",
       "       '56 - 61KG (Featherweight)', '61 - 66KG (Lightweight)',\n",
       "       '66 - 72KG (Welterweight)', '72 - 79KG (Middleweight)',\n",
       "       '79 - 87KG (Light-Heavyweight)', '- 58KG (Bantamweight)',\n",
       "       '58 - 62KG (Featherweight)', '62 - 67.5KG (Lightweight)',\n",
       "       '1KM Pursuit', '12 Foot Dinghy Individual',\n",
       "       '- 60KG, Total (Featherweight)', '+ 82.5KG, Total (Heavyweight)',\n",
       "       '60 - 67.5KG, Total (Lightweight)',\n",
       "       '67.5 - 75KG, Total (Middleweight)',\n",
       "       '75 - 82.5KG, Total (Light-Heavyweight)',\n",
       "       '58 - 60KG (Featherweight)', '50KM Walk', '80M Hurdles',\n",
       "       '50.8 - 54KG (Bantamweight)', '54 - 57.15KG (Featherweight)',\n",
       "       'Floor Exercises', 'Indian Clubs', 'Tumbling',\n",
       "       'Two-Person Keelboat Open (Star)', '+ 87KG (Super Heavyweight)',\n",
       "       'Basketball', 'C-1 1000M (Canoe Single)', 'C-2 10000M',\n",
       "       'C-2 1000M (Canoe Double)', 'Folding K-1 10000M',\n",
       "       'Folding K-2 10000M', 'K-1 10000M', 'K-1 1000M (Kayak Single)',\n",
       "       'K-2 10000M', 'K-2 1000M (Kayak Double)', 'Handball',\n",
       "       '- 51KG (Flyweight)', '51 - 54KG (Bantamweight)',\n",
       "       '54 - 58KG (Featherweight)', '58 - 62KG (Lightweight)',\n",
       "       '62 - 67KG (Welterweight)', '67 - 73KG (Middleweight)',\n",
       "       '73 - 80KG (Light-Heavyweight)', 'C-1 10000M',\n",
       "       'K-1 500M (Kayak Single)', 'Dragon', 'Firefly Class',\n",
       "       'Swallow (Golondrina)', '- 56KG, Total (Bantamweight)',\n",
       "       '56 - 60KG, Total (Featherweight)', '- 52KG (Flyweight)',\n",
       "       '52 - 57KG (Bantamweight)', '57 - 63KG (Featherweight)',\n",
       "       '63 - 67KG (Lightweight)', '67 - 73KG (Welterweight)',\n",
       "       '73 - 79KG (Middleweight)', '57 - 61KG (Featherweight)',\n",
       "       '61 - 67KG (Lightweight)', '+ 81KG (Heavyweight)',\n",
       "       '54 - 57KG (Featherweight)', '57 - 60KG (Lightweight)',\n",
       "       '60 - 63.5KG (Light-Welterweight)', '63.5 - 67KG (Welterweight)',\n",
       "       '67 - 71KG (Light-Middleweight)', '71-75KG',\n",
       "       '75 - 81KG (Light-Heavyweight)', 'Balance Beam',\n",
       "       'Team, Portable Apparatus', 'Uneven Bars', '5.5M',\n",
       "       'Single-Handed Dinghy (Finn)',\n",
       "       '100M Running Deer, Single/Double Shots',\n",
       "       '50M Rifle 3 Positions (3X40 Shots)',\n",
       "       '+ 90KG, Total (Heavyweight)',\n",
       "       '82.5 - 90KG, Total (Middle-Heavyweight)', '100M Butterfly',\n",
       "       '200M Butterfly', '20KM Walk', 'Sharpie 12M2',\n",
       "       '4X100M Medley Relay', 'K-1 4X500M', 'K-2 500M (Kayak Double)',\n",
       "       'Flying Dutchman', '400M Individual Medley',\n",
       "       'K-4 1000M (Kayak Four)', 'Individual Pursuit',\n",
       "       '- 68KG (Lightweight)', '68 - 80KG (Middleweight)',\n",
       "       'Open Category', 'Volleyball', '+ 97KG (Heavyweight)',\n",
       "       '63 - 70KG (Lightweight)', '70 - 78KG (Welterweight)',\n",
       "       '78 - 87KG (Middleweight)', '87 - 97KG (Light-Heavyweight)',\n",
       "       '+ 97KG (Super Heavyweight)', '100M Breaststroke',\n",
       "       '200M Individual Medley', '800M Freestyle',\n",
       "       '- 48KG (Light-Flyweight)', '48 - 51KG (Flyweight)',\n",
       "       'Skeet (125 Targets)', 'Individual Fita Round', '100M Hurdles',\n",
       "       'C-1 (Canoe Single)', 'C-2 (Canoe Double)', 'K-1 (Kayak Single)',\n",
       "       '- 63KG (Lightweight)', '+ 93KG (Heavyweight)',\n",
       "       '63 - 70KG (Half-Middleweight)', '70 - 80KG (Middleweight)',\n",
       "       '80 - 93KG (Half-Heavyweight)',\n",
       "       'Fleet/Match Race Keelboat Open (Soling)', 'Tempest',\n",
       "       '50M Running Target (30+30 Shots)', '- 52KG, Total (Flyweight)',\n",
       "       '+ 110KG, Total (Super Heavyweight)',\n",
       "       '52 - 56KG, Total (Bantamweight)',\n",
       "       '91 - 110KG, Total (Heavyweight)', '+ 100KG (Super Heavyweight)',\n",
       "       '48 - 52KG (Flyweight)', '57 - 62KG (Featherweight)',\n",
       "       '62 - 68KG (Lightweight)', '68 - 74KG (Welterweight)',\n",
       "       '74 - 82KG (Middleweight)', '82 - 90KG (Light-Heavyweight)',\n",
       "       '90 - 100KG (Heavyweight)', 'C-1 500M (Canoe Single)',\n",
       "       'C-2 500M (Canoe Double)', 'Pair Without Coxswain (2-)',\n",
       "       'Quadruple Sculls With Coxswain (4X)',\n",
       "       'Quadruple Sculls Without Coxswain (4X)',\n",
       "       '470 - Two Person Dinghy', 'Tornado - Multihull', '- 60 KG',\n",
       "       '+ 95KG (Heavyweight)', '60 - 65KG (Half-Lightweight)',\n",
       "       '65 - 71KG (Lightweight)', '71 - 78KG (Half-Middleweight)',\n",
       "       '78 - 86KG (Middleweight)', '86 - 95KG (Half-Heavyweight)',\n",
       "       '100 - 110KG, Total (Heavyweight)',\n",
       "       '90 - 100KG, Total (First-Heavyweight)', 'Duet', 'Solo', '3000M',\n",
       "       'Heptathlon', '+ 91KG (Super Heavyweight)',\n",
       "       '81 - 91KG (Heavyweight)', 'K-4 500M (Kayak Four)', 'Points Race',\n",
       "       'Board (Windglider)', '10M Air Rifle (40 Shots)',\n",
       "       '10M Air Rifle (60 Shots)', '25M Pistol (30+30 Shots)',\n",
       "       '50M Rifle 3 Positions (3X20 Shots)', '50M Freestyle', 'Sprint',\n",
       "       'Board (Division Ii)', '10M Air Pistol (40 Shots)',\n",
       "       '10M Air Pistol (60 Shots)', '100 - 130KG (Super Heavyweight)',\n",
       "       'Individual (Fita Olympic Round - 70M)',\n",
       "       'Team (Fita Olympic Round - 70M)', 'Baseball',\n",
       "       '- 48KG (Extra-Lightweight)', '+ 72KG (Heavyweight)',\n",
       "       '48 - 52KG (Half-Lightweight)', '52 - 56KG (Lightweight)',\n",
       "       '56 - 61KG (Half-Middleweight)', '61 - 66KG (Middleweight)',\n",
       "       '66 - 72KG (Half-Heavyweight)', 'Coxless Four (4-)',\n",
       "       'Board (Lechner)', 'Single-Handed Dinghy (Europe)',\n",
       "       'Cross-Country', 'Group Competition', '+ 100KG (Heavyweight)',\n",
       "       '60 - 66KG (Half-Lightweight)', '66 - 73KG (Lightweight)',\n",
       "       '73 - 81KG (Half-Middleweight)', '81 - 90KG (Middleweight)',\n",
       "       '90 - 100KG (Half-Heavyweight)', 'Lightweight Coxless Four (4-)',\n",
       "       'Lightweight Double Sculls (2X)', 'Board (Mistral)',\n",
       "       'Single-Handed Dinghy Open (Laser)', 'Double Trap (120 Targets)',\n",
       "       'Double Trap (150 Targets)', 'Softball', 'Beach Volleyball',\n",
       "       '- 54KG, Total (Flyweight)', '+ 108KG, Total (Super Heavyweight)',\n",
       "       '54 - 59KG, Total (Bantamweight)',\n",
       "       '59 - 64KG, Total (Featherweight)',\n",
       "       '64 - 70KG, Total (Lightweight)',\n",
       "       '70 - 76KG, Total (Middleweight)',\n",
       "       '76 - 83KG, Total (Light-Heavyweight)',\n",
       "       '83 - 91KG, Total (Middle-Heavyweight)',\n",
       "       '91 - 99KG, Total (First-Heavyweight)',\n",
       "       '99 - 108KG, Total (Heavyweight)',\n",
       "       'Synchronized Diving 10M Platform',\n",
       "       'Synchronized Diving 3M Springboard', '20KM Race Walk',\n",
       "       '500M Time Trial', 'Keirin', 'Madison', 'Olympic Sprint',\n",
       "       '+ 78KG (Heavyweight)', '52 - 57KG (Lightweight)',\n",
       "       '57 - 63KG (Half-Middleweight)', '63 - 70KG (Middleweight)',\n",
       "       '70 - 78KG (Half-Heavyweight)', '49Er - Skiff',\n",
       "       '10M Running Target (30+30 Shots)', 'Skeet (75 Targets)',\n",
       "       'Trap (75 Targets)', '- 49 KG', '- 58 KG', '+ 67 KG', '+ 80 KG',\n",
       "       '49 - 57 KG', '57 - 67 KG', '58 - 68 KG', '68 - 80 KG', '+ 105KG',\n",
       "       '+ 75KG', '105KG', '48KG', '53KG', '56KG', '58KG', '62KG', '63KG',\n",
       "       '69KG', '75KG', '77KG', '85KG', '94KG', '48 - 54KG', '54 - 58KG',\n",
       "       '58 - 63KG', '63 - 69KG', '69 - 76KG', '76 - 85KG', '85 - 97KG',\n",
       "       '97 - 130KG', '48KG (Light Flywieght)', '60 - 64 KG', '64 - 69 KG',\n",
       "       '69 - 75 KG', 'Team Sprint', '- 48 KG', 'Star - Keelboat',\n",
       "       'Yngling - Keelboat', '- 48KG', '- 55KG', '48 - 55KG', '55 - 60KG',\n",
       "       '55 - 63KG', '60 - 66KG', '63 - 72KG', '66 - 74KG', '74 - 84KG',\n",
       "       '84 - 96KG', '96 - 120KG', 'Marathon 10KM',\n",
       "       'Finn - Heavyweight Dinghy', 'Laser - One Person Dinghy',\n",
       "       'Laser Radial - One Person Dinghy', 'Rs:X - Windsurfer',\n",
       "       'Synchronized 10M', 'Synchronized 3M', '200M Medley',\n",
       "       '400M Medley', '4X100M Freestyle', '4X100M Medley',\n",
       "       '4X200M Freestyle', '3000M Steeple', '+ 91KG', '46 - 49KG',\n",
       "       '51 KG', '52KG', '57 - 60KG', '60 KG', '75 - 81KG', '75 KG',\n",
       "       '81 - 91KG', 'C-1 (Single)', 'C-2 (Double)', 'K-1 (Single)',\n",
       "       'C-1 1000M', 'C-1 200M', 'C-2 1000M', 'K-1 1000M', 'K-1 200M',\n",
       "       'K-1 500M', 'K-2 1000M', 'K-2 200M', 'K-2 500M', 'K-4 1000M',\n",
       "       'K-4 500M', 'Individual Road', 'Time Trial', 'Omnium',\n",
       "       'Team Pursuit', 'Beam', 'Individual All-Around', '+ 100KG',\n",
       "       '+ 78KG', '48 - 52KG', '52 - 57KG', '57 - 63KG', '63 - 70KG',\n",
       "       '66 - 73KG', '70 - 78KG', '73 - 81KG', '81 - 90KG', '90 - 100KG',\n",
       "       'Coxless Four', 'Coxless Pair 2-', 'Double Sculls',\n",
       "       'Eight With Coxswain', 'Lightweight 4', 'Lightweight Doubles',\n",
       "       'Quadruple Sculls', 'Single Sculls', '470', 'Elliott 6M', 'Finn',\n",
       "       'Laser', 'Laser Radial', 'Rs:X', 'Star', '10M Air Pistol',\n",
       "       '10M Air Rifle', '25M Pistol', '25M Rapid Pistol', '50M Pistol',\n",
       "       '50M Rifle 3 Positions', '50M Rifle Prone', 'Double Trap 150',\n",
       "       'Skeet', 'Trap', '+105KG', '+75KG', '-56KG', 'Wf 120KG',\n",
       "       'Wf 48 KG', 'Wf 55 KG', 'Wf 60 KG', 'Wf 63 KG', 'Wf 66 KG',\n",
       "       'Wf 72 KG', 'Wf 74 KG', 'Wf 84 KG', 'Wf 96 KG', 'Wg 120 KG',\n",
       "       'Wg 55 KG', 'Wg 60 KG', 'Wg 66 KG', 'Wg 74 KG', 'Wg 84 KG',\n",
       "       'Wg 96 KG', 'Military Patrol', 'Four-Man', 'Curling', '500M',\n",
       "       'Combined (4 Events)', '18KM', 'K90 Individual (70M)', 'Five-Man',\n",
       "       'Two-Man', 'Alpine Combined', '4X10KM Relay', 'Downhill', 'Slalom',\n",
       "       'Giant Slalom', '15KM', '30KM Mass Start', '3X5KM Relay', '1000M',\n",
       "       '5KM', 'K120 Individual (90M)', '4X7.5KM Relay', 'Ice Dancing',\n",
       "       '4X5KM Relay', 'Super-G', 'K120 Team (90M)', '7.5KM',\n",
       "       '3000M Relay', '5000M Relay', '10KM Pursuit', '15KM Mass Start',\n",
       "       '30KM', 'Combined 10KM + 15KM Pursuit',\n",
       "       'Combined 5KM + 10KM Pursuit', 'Moguls', 'Aerials', 'Giant-Slalom',\n",
       "       'Half-Pipe', '12.5Km Pursuit', '5Km Pursuit', 'Sprint 1.5KM',\n",
       "       'Giant Parallel Slalom', '12.5KM Mass Start', '4X6KM Relay',\n",
       "       'Combined 15 + 15KM Mass Start', 'Combined 7.5 + 7.5Km Mass Start',\n",
       "       'Individual Sprint', 'Snowboard Cross', 'Super Combined',\n",
       "       'Ski Cross', 'Individual, Ski Jumping K90 (70M)', 'Sprint K120',\n",
       "       'Team, 4X5 KM', 'Relay Mix', 'Two-Woman', 'Mixed Relay',\n",
       "       'Combined 15+15K', 'Combined7.5+7.5', 'Ski Halfpipe',\n",
       "       'Ski Slopestyle', 'Ind. K90 (70M)', 'Large Hill', 'Normal Hill',\n",
       "       'Teams', 'K90 Individual', 'Giant Parall.S.', 'Parallel Slalom',\n",
       "       'Slopestyle'], dtype=object)"
      ]
     },
     "execution_count": 15,
     "metadata": {},
     "output_type": "execute_result"
    }
   ],
   "source": [
    "df_total[\"Event\"].unique()"
   ]
  },
  {
   "cell_type": "code",
   "execution_count": 16,
   "metadata": {},
   "outputs": [
    {
     "data": {
      "text/plain": [
       "array(['+ 100KG', '+ 100KG (Heavyweight)', '+ 100KG (Super Heavyweight)',\n",
       "       '+ 105KG', '+ 108KG, Total (Super Heavyweight)',\n",
       "       '+ 110KG, Total (Super Heavyweight)', '+ 67 KG',\n",
       "       '+ 71.67KG (Heavyweight)', '+ 72KG (Heavyweight)',\n",
       "       '+ 73KG (Heavyweight)', '+ 75KG', '+ 78KG', '+ 78KG (Heavyweight)',\n",
       "       '+ 79.38KG (Heavyweight)', '+ 80 KG', '+ 80KG (Heavyweight)',\n",
       "       '+ 81KG (Heavyweight)', '+ 82.5KG (Super Heavyweight)',\n",
       "       '+ 82.5KG, One-Two Hand 3 Events (Heavyweight)',\n",
       "       '+ 82.5KG, One-Two Hand 5 Events (Heavyweight)',\n",
       "       '+ 82.5KG, Total (Heavyweight)', '+ 82KG (Super Heavyweight)',\n",
       "       '+ 87KG (Heavyweight)', '+ 87KG (Super Heavyweight)',\n",
       "       '+ 90KG, Total (Heavyweight)', '+ 91KG',\n",
       "       '+ 91KG (Super Heavyweight)', '+ 93KG (Heavyweight)',\n",
       "       '+ 93KG (Super Heavyweight)', '+ 95KG (Heavyweight)',\n",
       "       '+ 97KG (Heavyweight)', '+ 97KG (Super Heavyweight)', '+105KG',\n",
       "       '+75KG', '- 47.63KG (Flyweight)', '- 47.6KG (Light-Flyweight)',\n",
       "       '- 48 KG', '- 48KG', '- 48KG (Extra-Lightweight)',\n",
       "       '- 48KG (Light-Flyweight)', '- 49 KG', '- 50.8KG (Flyweight)',\n",
       "       '- 51KG (Flyweight)', '- 52.62KG (Bantamweight)',\n",
       "       '- 52KG (Flyweight)', '- 52KG, Total (Flyweight)',\n",
       "       '- 54KG (Bantamweight)', '- 54KG, Total (Flyweight)', '- 55KG',\n",
       "       '- 56KG (Bantamweight)', '- 56KG, Total (Bantamweight)', '- 58 KG',\n",
       "       '- 58KG (Bantamweight)', '- 60 KG', '- 60KG (Featherweight)',\n",
       "       '- 60KG, One-Two Hand 3 Events (Featherweight)',\n",
       "       '- 60KG, One-Two Hand 5 Events (Featherweight)',\n",
       "       '- 60KG, Total (Featherweight)', '- 63KG (Lightweight)',\n",
       "       '- 66.6KG (Lightweight)', '- 68KG (Lightweight)', '-56KG',\n",
       "       '0.5-1T', '1 Mile (1609.3M)', '1/2 Mile (804.7M)',\n",
       "       '1/3 Mile (536.5M)', '1/4 Mile (402.3M)', '10-20T',\n",
       "       '100 - 110KG, Total (Heavyweight)',\n",
       "       '100 - 130KG (Super Heavyweight)', '10000M', '10000M Walk',\n",
       "       '1000M', '1000Y Free Rifle, Prone', '100KM', '100M',\n",
       "       '100M Backstroke', '100M Breaststroke', '100M Butterfly',\n",
       "       '100M Freestyle', '100M Freestyle For Sailors', '100M Hurdles',\n",
       "       '100M Running Deer, Double Shots',\n",
       "       '100M Running Deer, Double Shots, Team',\n",
       "       '100M Running Deer, Single Shots',\n",
       "       '100M Running Deer, Single Shots, Team',\n",
       "       '100M Running Deer, Single/Double Shots', '105KG', '10KM',\n",
       "       '10KM Pursuit', '10M', '10M (Rating 1907)', '10M (Rating 1919)',\n",
       "       '10M Air Pistol', '10M Air Pistol (40 Shots)',\n",
       "       '10M Air Pistol (60 Shots)', '10M Air Rifle',\n",
       "       '10M Air Rifle (40 Shots)', '10M Air Rifle (60 Shots)',\n",
       "       '10M Platform', '10M Running Target (30+30 Shots)',\n",
       "       '10Miles Walk (16093M)', '110M Hurdles', '12 Foot Dinghy',\n",
       "       '12 Foot Dinghy Individual', '12-Hour Race', '12.5KM Mass Start',\n",
       "       '12.5Km Pursuit', '1200M Freestyle', '12M', '12M (Rating 1907)',\n",
       "       '12M (Rating 1919)', '1500M', '1500M Freestyle', '15KM',\n",
       "       '15KM Mass Start', '18 Foot Dinghy', '18KM',\n",
       "       '1980 Yards Pursuit, Team', '1KM Pursuit', '1KM Time Trial',\n",
       "       '2 Miles (3.218KM)', '2000M Tandem', '200M', '200M Backstroke',\n",
       "       '200M Breaststroke', '200M Butterfly', '200M Freestyle',\n",
       "       '200M Hurdles', '200M Individual Medley', '200M Medley',\n",
       "       '200M Obstacle Event', '200M Team Swimming', '20KM',\n",
       "       '20KM Race Walk', '20KM Walk', '25 Kilometres',\n",
       "       '25 Miles (40.232KM)', '25M Army Pistol', '25M Pistol',\n",
       "       '25M Pistol (30+30 Shots)', '25M Rapid Fire Pistol (60 Shots)',\n",
       "       '25M Rapid Pistol', '25M Small Bore Rifle, Team',\n",
       "       '25M Small Rifle', '25Y Small Bore Rifle, Disappearing Target',\n",
       "       '25Y Small Bore Rifle, Moving Target', '3-10T',\n",
       "       '300+600M Free Rifle, Team, Prone', '3000M', '3000M Relay',\n",
       "       '3000M Steeple', '3000M Steeplechase', '3000M Team', '3000M Walk',\n",
       "       '300M Free Rifle 3 Positions (3X40 Shots)',\n",
       "       '300M Free Rifle, Prone, Team', '300M Free Rifle, Standing, Team',\n",
       "       '30KM', '30KM Mass Start', '30M Army Pistol, Team', '30M Sq',\n",
       "       '3200M Steeplechase', '3500M Walk', '3M Springboard',\n",
       "       '3Miles Team (4828M)', '3X5KM Relay',\n",
       "       '400, 600, 800M Free Rifle, Team', '4000M Freestyle',\n",
       "       '4000M Steeplechase', '400M', '400M Breaststroke',\n",
       "       '400M Freestyle', '400M Hurdles', '400M Individual Medley',\n",
       "       '400M Medley', '40M Sq', '46 - 49KG', '47.6 - 52.16KG (Flyweight)',\n",
       "       '47.63 - 52.16KG (Bantamweight)', '470', '470 - Two Person Dinghy',\n",
       "       '48 - 51KG (Flyweight)', '48 - 52KG', '48 - 52KG (Flyweight)',\n",
       "       '48 - 52KG (Half-Lightweight)', '48 - 54KG', '48 - 55KG', '48KG',\n",
       "       '48KG (Light Flywieght)', '49 - 57 KG', '49Er - Skiff',\n",
       "       '4Miles Team', '4X100M Freestyle', '4X100M Freestyle Relay',\n",
       "       '4X100M Medley', '4X100M Medley Relay', '4X100M Relay',\n",
       "       '4X10KM Relay', '4X200M Freestyle', '4X200M Freestyle Relay',\n",
       "       '4X400M Relay', '4X50Y Freestyle Relay', '4X5KM Relay',\n",
       "       '4X6KM Relay', '4X7.5KM Relay', '5 Miles (8.046KM)',\n",
       "       '5 Miles (8047M)', '5.5M', '50+100Y Small Bore Rifle, Team',\n",
       "       '50.8 - 53.52KG (Bantamweight)', '50.8 - 54KG (Bantamweight)',\n",
       "       '5000M', '5000M Relay', '5000M Team', '500M', '500M Time Trial',\n",
       "       '50KM', '50KM Walk', '50M Army Pistol, Team', '50M Freestyle',\n",
       "       '50M Pistol', '50M Pistol (60 Shots)', '50M Rifle 3 Positions',\n",
       "       '50M Rifle 3 Positions (3X20 Shots)',\n",
       "       '50M Rifle 3 Positions (3X40 Shots)', '50M Rifle Prone',\n",
       "       '50M Rifle Prone (60 Shots)', '50M Running Target (30+30 Shots)',\n",
       "       '50M Small Bore Rifle, Standing, Individual',\n",
       "       '50M Small Bore Rifle, Team', '50Y Army Pistol, Team',\n",
       "       '50Y Freestyle (45.72M)', '51 - 54KG (Bantamweight)', '51 KG',\n",
       "       '52 - 56KG (Lightweight)', '52 - 56KG, Total (Bantamweight)',\n",
       "       '52 - 57KG', '52 - 57KG (Bantamweight)', '52 - 57KG (Lightweight)',\n",
       "       '52.16 - 56.7KG (Bantamweight)', '52.16 - 56.7KG (Featherweight)',\n",
       "       '52.62 - 57.15KG (Featherweight)', '52KG',\n",
       "       '53.52 - 57.15KG (Featherweight)', '53KG',\n",
       "       '54 - 57.15KG (Featherweight)', '54 - 57KG (Featherweight)',\n",
       "       '54 - 58KG', '54 - 58KG (Featherweight)',\n",
       "       '54 - 59KG, Total (Bantamweight)', '54 - 60.3KG (Featherweight)',\n",
       "       '55 - 60KG', '55 - 63KG', '56 - 60KG, Total (Featherweight)',\n",
       "       '56 - 61KG (Featherweight)', '56 - 61KG (Half-Middleweight)',\n",
       "       '56.7 - 61.23KG (Featherweight)', '56.7 - 61.24KG (Lightweight)',\n",
       "       '56KG', '56LB Weight Throw (25.4KG)', '57 - 60KG',\n",
       "       '57 - 60KG (Lightweight)', '57 - 61KG (Featherweight)',\n",
       "       '57 - 62KG (Featherweight)', '57 - 63KG',\n",
       "       '57 - 63KG (Featherweight)', '57 - 63KG (Half-Middleweight)',\n",
       "       '57 - 67 KG', '57.15 - 61.24KG (Lightweight)',\n",
       "       '57.15 - 63.5KG (Lightweight)', '58 - 60KG (Featherweight)',\n",
       "       '58 - 62KG (Featherweight)', '58 - 62KG (Lightweight)',\n",
       "       '58 - 63KG', '58 - 68 KG', '58KG',\n",
       "       '59 - 64KG, Total (Featherweight)', '5KM', '5Km Pursuit',\n",
       "       '6.5M (Rating 1919)', '60 - 63.5KG (Light-Welterweight)',\n",
       "       '60 - 64 KG', '60 - 65KG (Half-Lightweight)', '60 - 66KG',\n",
       "       '60 - 66KG (Half-Lightweight)', '60 - 67.5KG (Lightweight)',\n",
       "       '60 - 67.5KG, One-Two Hand 3 Events (Lightweight)',\n",
       "       '60 - 67.5KG, One-Two Hand 5 Events (Lightweight)',\n",
       "       '60 - 67.5KG, Total (Lightweight)', '60 KG',\n",
       "       '60.3 - 66.6KG (Lightweight)', '600M Free Rifle',\n",
       "       '600M Free Rifle, Individual', '600M Free Rifle, Prone',\n",
       "       '600M Free Rifle, Team', '60M', '61 - 66KG (Lightweight)',\n",
       "       '61 - 66KG (Middleweight)', '61 - 67KG (Lightweight)',\n",
       "       '61.23 - 65.77KG (Lightweight)', '61.24 - 65.77KG (Welterweight)',\n",
       "       '61.24 - 66.68KG (Welterweight)', '62 - 67.5KG (Lightweight)',\n",
       "       '62 - 67KG (Welterweight)', '62 - 68KG (Lightweight)', '62KG',\n",
       "       '63 - 67KG (Lightweight)', '63 - 69KG', '63 - 70KG',\n",
       "       '63 - 70KG (Half-Middleweight)', '63 - 70KG (Lightweight)',\n",
       "       '63 - 70KG (Middleweight)', '63 - 72KG',\n",
       "       '63.5 - 67KG (Welterweight)', '63.5 - 71.67KG (Middleweight)',\n",
       "       '63KG', '64 - 69 KG', '64 - 70KG, Total (Lightweight)',\n",
       "       '65 - 71KG (Lightweight)', '65.77 - 71.67KG (Middleweight)',\n",
       "       '65.77 - 71.67KG (Welterweight)', '66 - 72KG (Half-Heavyweight)',\n",
       "       '66 - 72KG (Welterweight)', '66 - 73KG', '66 - 73KG (Lightweight)',\n",
       "       '66 - 74KG', '66.6 - 73KG (Middleweight)',\n",
       "       '66.68 - 72.57KG (Middleweight)', '67 - 71KG (Light-Middleweight)',\n",
       "       '67 - 73KG (Middleweight)', '67 - 73KG (Welterweight)',\n",
       "       '67.5 - 75KG (Middleweight)',\n",
       "       '67.5 - 75KG, One-Two Hand 3 Events (Middleweight)',\n",
       "       '67.5 - 75KG, One-Two Hand 5 Events (Middleweight)',\n",
       "       '67.5 - 75KG, Total (Middleweight)', '68 - 74KG (Welterweight)',\n",
       "       '68 - 80 KG', '68 - 80KG (Middleweight)', '69 - 75 KG',\n",
       "       '69 - 76KG', '69KG', '6M', '6M (Rating 1907)', '6M (Rating 1919)',\n",
       "       '7.5KM', '70 - 76KG, Total (Middleweight)', '70 - 78KG',\n",
       "       '70 - 78KG (Half-Heavyweight)', '70 - 78KG (Welterweight)',\n",
       "       '70 - 80KG (Middleweight)', '71 - 78KG (Half-Middleweight)',\n",
       "       '71-75KG', '72 - 79KG (Middleweight)',\n",
       "       '72.57 - 79.38KG (Light-Heavyweight)', '73 - 79KG (Middleweight)',\n",
       "       '73 - 80KG (Light-Heavyweight)', '73 - 81KG',\n",
       "       '73 - 81KG (Half-Middleweight)', '73 - 93KG (Light-Heavyweight)',\n",
       "       '74 - 82KG (Middleweight)', '74 - 84KG',\n",
       "       '75 - 80KG (Light-Heavyweight)', '75 - 81KG',\n",
       "       '75 - 81KG (Light-Heavyweight)', '75 - 82.5KG (Light-Heavyweight)',\n",
       "       '75 - 82.5KG, One-Two Hand 3 E. (Light-Heavyweight)',\n",
       "       '75 - 82.5KG, One-Two Hand 5 E. (Light-Heavyweight)',\n",
       "       '75 - 82.5KG, Total (Light-Heavyweight)',\n",
       "       '75 - 82KG (Light-Heavyweight)', '75 KG', '75KG',\n",
       "       '76 - 83KG, Total (Light-Heavyweight)', '76 - 85KG', '77KG',\n",
       "       '78 - 86KG (Middleweight)', '78 - 87KG (Middleweight)',\n",
       "       '79 - 87KG (Light-Heavyweight)', '7M',\n",
       "       '80 - 93KG (Half-Heavyweight)', '800M', '800M Freestyle',\n",
       "       '80M Hurdles', '81 - 90KG', '81 - 90KG (Middleweight)',\n",
       "       '81 - 91KG', '81 - 91KG (Heavyweight)',\n",
       "       '82 - 90KG (Light-Heavyweight)',\n",
       "       '82.5 - 90KG, Total (Middle-Heavyweight)',\n",
       "       '83 - 91KG, Total (Middle-Heavyweight)', '84 - 96KG', '85 - 97KG',\n",
       "       '85KG', '86 - 95KG (Half-Heavyweight)',\n",
       "       '87 - 97KG (Light-Heavyweight)', '880Y Freestyle (804.66M)', '8M',\n",
       "       '8M (Rating 1907)', '8M (Rating 1919)', '8M Class C', '90 - 100KG',\n",
       "       '90 - 100KG (Half-Heavyweight)', '90 - 100KG (Heavyweight)',\n",
       "       '90 - 100KG, Total (First-Heavyweight)',\n",
       "       '91 - 110KG, Total (Heavyweight)',\n",
       "       '91 - 99KG, Total (First-Heavyweight)', '94KG', '96 - 120KG',\n",
       "       '97 - 130KG', '99 - 108KG, Total (Heavyweight)', 'Aerials',\n",
       "       'All-Around Dumbbell Contest', 'Alpine Combined',\n",
       "       'Army Rifle, 200M', 'Army Rifle, 300M',\n",
       "       'Army Rifle, 300M, 3 Positions', 'Army Rifle, 300M, Kneeling',\n",
       "       'Army Rifle, 300M, Prone', 'Army Rifle, 300M, Standing',\n",
       "       'Au Chapelet, 33M', 'Au Chapelet, 50M', 'Au Cordon Doré, 33M',\n",
       "       'Au Cordon Doré, 50M', 'Balance Beam', 'Baseball', 'Basketball',\n",
       "       'Beach Volleyball', 'Beam', 'Board (Division Ii)',\n",
       "       'Board (Lechner)', 'Board (Mistral)', 'Board (Windglider)',\n",
       "       'C-1 (Canoe Single)', 'C-1 (Single)', 'C-1 10000M', 'C-1 1000M',\n",
       "       'C-1 1000M (Canoe Single)', 'C-1 200M', 'C-1 500M (Canoe Single)',\n",
       "       'C-2 (Canoe Double)', 'C-2 (Double)', 'C-2 10000M', 'C-2 1000M',\n",
       "       'C-2 1000M (Canoe Double)', 'C-2 500M (Canoe Double)',\n",
       "       'Cesta Punta', 'Class B Up To 60 Feet', 'Clay Pigeons, Team',\n",
       "       'Club Swinging', 'Combined (4 Events)',\n",
       "       'Combined 10KM + 15KM Pursuit', 'Combined 15 + 15KM Mass Start',\n",
       "       'Combined 15+15K', 'Combined 3 Events', 'Combined 4 Events',\n",
       "       'Combined 5KM + 10KM Pursuit', 'Combined 7.5 + 7.5Km Mass Start',\n",
       "       'Combined7.5+7.5', 'Continental Style 50M',\n",
       "       'Coxed Fours Jugriggers', 'Coxless Four', 'Coxless Four (4-)',\n",
       "       'Coxless Pair (2-)', 'Coxless Pair 2-', 'Cricket',\n",
       "       'Cross Country Individual', 'Cross Country Team', 'Cross-Country',\n",
       "       'Curling', 'Decathlon', 'Discus Throw',\n",
       "       'Discus Throw Ancient Style', 'Discus Throw, Both Hands', 'Double',\n",
       "       'Double American Round (60Y - 50Y - 40Y)',\n",
       "       'Double Columbia Round (50Y - 40Y - 30Y)',\n",
       "       'Double National Round (60Y - 50Y)', 'Double Sculls',\n",
       "       'Double Sculls (2X)', 'Double Trap (120 Targets)',\n",
       "       'Double Trap (150 Targets)', 'Double Trap 150',\n",
       "       'Double York Round (100Y - 80Y - 60Y)', 'Doubles',\n",
       "       'Doubles Indoor', 'Downhill', 'Dragon', 'Duet',\n",
       "       'Eight With Coxswain', 'Eight With Coxswain (8+)', 'Elliott 6M',\n",
       "       'Figure Riding Individual', 'Figure Riding Team', 'Finn',\n",
       "       'Finn - Heavyweight Dinghy', 'Firefly Class', 'Five-Man',\n",
       "       'Fixed Bird Target Large Birds',\n",
       "       'Fixed Bird Target Large Birds Teams',\n",
       "       'Fixed Bird Target Small Bird, Teams',\n",
       "       'Fixed Bird Target Small Birds',\n",
       "       'Fleet/Match Race Keelboat Open (Soling)', 'Floor Exercises',\n",
       "       'Flying Dutchman', 'Foil Individual', 'Foil Team', 'Foil, Masters',\n",
       "       'Folding K-1 10000M', 'Folding K-2 10000M', 'Football',\n",
       "       'Four Without Coxswain (4-)', 'Four-Man',\n",
       "       'Four-Oared Shell With Coxswain (4-)', 'Free Rifle, Team',\n",
       "       'Giant Parall.S.', 'Giant Parallel Slalom', 'Giant Slalom',\n",
       "       'Giant-Slalom', 'Group Competition', 'Half-Pipe', 'Hammer Throw',\n",
       "       'Handball', 'Heavyweight - One Hand Lift',\n",
       "       'Heavyweight - Two Hand Lift', 'Heptathlon', 'High Jump',\n",
       "       'High Jump, Standing', 'Hockey', 'Horizontal Bar', 'Ice Dancing',\n",
       "       'Ice Hockey', 'Ind. K90 (70M)', 'Indian Clubs', 'Individual',\n",
       "       'Individual (Fita Olympic Round - 70M)', 'Individual 1 Ball',\n",
       "       'Individual 2 Balls', 'Individual All-Around',\n",
       "       'Individual All-Round', 'Individual Competition',\n",
       "       'Individual Fita Round', 'Individual Pursuit', 'Individual Road',\n",
       "       'Individual Road Race', 'Individual Sprint',\n",
       "       'Individual Time Trial', 'Individual, Ski Jumping K90 (70M)',\n",
       "       'Javelin Throw', 'Javelin Throw Freestyle',\n",
       "       'Javelin Throw, Both Hands', 'K-1 (Kayak Single)', 'K-1 (Single)',\n",
       "       'K-1 10000M', 'K-1 1000M', 'K-1 1000M (Kayak Single)', 'K-1 200M',\n",
       "       'K-1 4X500M', 'K-1 500M', 'K-1 500M (Kayak Single)', 'K-2 10000M',\n",
       "       'K-2 1000M', 'K-2 1000M (Kayak Double)', 'K-2 200M', 'K-2 500M',\n",
       "       'K-2 500M (Kayak Double)', 'K-4 1000M', 'K-4 1000M (Kayak Four)',\n",
       "       'K-4 500M', 'K-4 500M (Kayak Four)', 'K120 Individual (90M)',\n",
       "       'K120 Team (90M)', 'K90 Individual', 'K90 Individual (70M)',\n",
       "       'Keirin', 'Lacrosse', 'Large Hill', 'Laser',\n",
       "       'Laser - One Person Dinghy', 'Laser Radial',\n",
       "       'Laser Radial - One Person Dinghy', 'Lightweight 4',\n",
       "       'Lightweight Coxless Four (4-)', 'Lightweight Double Sculls (2X)',\n",
       "       'Lightweight Doubles', 'Long Jump', 'Long Jump Individual',\n",
       "       'Long Jump, Standing', 'Madison', 'Marathon', 'Marathon 10KM',\n",
       "       'Military Patrol', 'Mixed Doubles', 'Mixed Doubles Indoor',\n",
       "       'Mixed Relay', 'Moguls', 'Moving Bird Target 28M Teams',\n",
       "       'Moving Bird Target 33M Teams', 'Moving Bird Target 50M Teams',\n",
       "       'Moving Bird Target, 28M', 'Moving Bird Target, 33M',\n",
       "       'Moving Bird Target, 50M', 'National Round (60Y - 50Y)',\n",
       "       'Normal Hill', 'Olympic Class Monotype', 'Olympic Sprint',\n",
       "       'Omnium', 'One Lap (660Y) Sprint', 'Open Category', 'Open Class',\n",
       "       'Open Class A', 'Open Event', 'Pair Without Coxswain (2-)',\n",
       "       'Pair-Oared Shell With Coxswain (2+)', 'Pairs', 'Parallel Bars',\n",
       "       'Parallel Slalom', 'Pentathlon', 'Plain High Diving',\n",
       "       'Plunge For Distance', 'Points Race', 'Pole Vault', 'Polo',\n",
       "       'Pommel Horse', 'Quadruple Sculls',\n",
       "       'Quadruple Sculls With Coxswain (4X)',\n",
       "       'Quadruple Sculls Without Coxswain (4X)', 'Relay Mix',\n",
       "       'Rifle, Team', 'Rings', 'Rope Climbing', 'Rs:X',\n",
       "       'Rs:X - Windsurfer', 'Rugby', 'Sabre Individual', 'Sabre Team',\n",
       "       'Sabre, Masters', 'Sharpie 12M2', 'Shot Put',\n",
       "       'Shot Put, Both Hands', 'Sidehorse Vault', 'Single Sculls',\n",
       "       'Single Sculls (1X)', 'Single-Handed Dinghy (Europe)',\n",
       "       'Single-Handed Dinghy (Finn)', 'Single-Handed Dinghy Open (Laser)',\n",
       "       'Singles', 'Singles Indoor', 'Skeet', 'Skeet (125 Targets)',\n",
       "       'Skeet (75 Targets)', 'Ski Cross', 'Ski Halfpipe',\n",
       "       'Ski Slopestyle', 'Slalom', 'Slopestyle', 'Snowboard Cross',\n",
       "       'Softball', 'Solo', 'Special Figures', 'Sprint', 'Sprint 1.5KM',\n",
       "       'Sprint Indivual', 'Sprint K120', 'Star', 'Star - Keelboat',\n",
       "       'Stick, Single', 'Super Combined', 'Super-G',\n",
       "       'Sur La Perche À La Herse', 'Sur La Perche À La Pyramide',\n",
       "       'Swallow (Golondrina)', 'Synchronized 10M', 'Synchronized 3M',\n",
       "       'Synchronized Diving 10M Platform',\n",
       "       'Synchronized Diving 3M Springboard', 'Team',\n",
       "       'Team (Fita Olympic Round - 70M)', 'Team Competition',\n",
       "       'Team Pursuit', 'Team Pursuit (4000M)', 'Team Round 60Y',\n",
       "       'Team Sprint', 'Team Time Trial', 'Team, 4X5 KM',\n",
       "       'Team, Free System', 'Team, Horizontal Bar', 'Team, Parallel Bars',\n",
       "       'Team, Portable Apparatus', 'Team, Swedish System', 'Teams',\n",
       "       'Teams Fita Round', 'Tempest', 'Time Trial', 'Tornado - Multihull',\n",
       "       'Trap', 'Trap (125 Targets)', 'Trap (75 Targets)',\n",
       "       'Triathlon (Long Jump / Shot Put / 100 Yards)', 'Triple Jump',\n",
       "       'Triple Jump, Standing', 'Tug Of War', 'Tumbling', 'Two-Man',\n",
       "       'Two-Person Keelboat Open (Star)', 'Two-Woman',\n",
       "       'Underwater Swimming', 'Uneven Bars', 'Vault', 'Volleyball',\n",
       "       'Water Polo', 'Wf 120KG', 'Wf 48 KG', 'Wf 55 KG', 'Wf 60 KG',\n",
       "       'Wf 63 KG', 'Wf 66 KG', 'Wf 72 KG', 'Wf 74 KG', 'Wf 84 KG',\n",
       "       'Wf 96 KG', 'Wg 120 KG', 'Wg 55 KG', 'Wg 60 KG', 'Wg 66 KG',\n",
       "       'Wg 74 KG', 'Wg 84 KG', 'Wg 96 KG', 'Yngling - Keelboat',\n",
       "       'York Round (100Y - 80Y - 60Y)', 'Épée Individual', 'Épée Team',\n",
       "       'Épée, Amateurs And Masters', 'Épée, Masters'], dtype=object)"
      ]
     },
     "execution_count": 16,
     "metadata": {},
     "output_type": "execute_result"
    }
   ],
   "source": [
    "Event = df_total[\"Event\"].unique()\n",
    "Event.sort()\n",
    "Event"
   ]
  },
  {
   "cell_type": "code",
   "execution_count": 17,
   "metadata": {},
   "outputs": [
    {
     "data": {
      "text/plain": [
       "array(['Swimming', 'Athletics', 'Cycling Road', 'Cycling Track',\n",
       "       'Fencing', 'Artistic G.', 'Shooting', 'Tennis', 'Weightlifting',\n",
       "       'Wrestling Gre-R', 'Water polo', 'Archery', 'Basque Pelota',\n",
       "       'Cricket', 'Croquet', 'Jumping', 'Football', 'Golf', 'Polo',\n",
       "       'Rowing', 'Rugby', 'Sailing', 'Tug of War', 'Diving', 'Boxing',\n",
       "       'Lacrosse', 'Roque', 'Wrestling Free.', 'Hockey', 'Jeu de Paume',\n",
       "       'Rackets', 'Figure skating', 'Water Motorspor', 'Dressage',\n",
       "       'Eventing', 'Modern Pentath.', 'Vaulting', 'Ice Hockey',\n",
       "       'Basketball', 'Canoe / Kayak F', 'Handball', 'Judo', 'Volleyball',\n",
       "       'Canoe / Kayak S', 'Synchronized S.', 'Rhythmic G.',\n",
       "       'Table Tennis', 'Badminton', 'Baseball', 'Mountain Bike',\n",
       "       'Softball', 'Beach volley.', 'Trampoline', 'Taekwondo',\n",
       "       'Triathlon', 'BMX', 'Marathon swimming', 'Synchronized Swimming',\n",
       "       'Water Polo', 'Canoe Slalom', 'Canoe Sprint', 'Cycling BMX',\n",
       "       'Gymnastics Artistic', 'Gymnastics Rhythmic', 'Modern Pentathlon',\n",
       "       'Beach Volleyball', 'Wrestling Freestyle', 'Biathlon', 'Bobsleigh',\n",
       "       'Curling', 'Speed skating', 'Cross Country Skiing',\n",
       "       'Nordic Combined', 'Ski Jumping', 'Skeleton', 'Alpine Skiing',\n",
       "       'Luge', 'Short Track Speed Skating', 'Freestyle Skiing',\n",
       "       'Snowboard'], dtype=object)"
      ]
     },
     "execution_count": 17,
     "metadata": {},
     "output_type": "execute_result"
    }
   ],
   "source": [
    "df_total[\"Discipline\"].unique()"
   ]
  },
  {
   "cell_type": "code",
   "execution_count": 18,
   "metadata": {},
   "outputs": [],
   "source": [
    "df_total[\"Discipline\"] = df_total[\"Discipline\"].str.lower()#make all instances small letter to easily manage"
   ]
  },
  {
   "cell_type": "code",
   "execution_count": 19,
   "metadata": {},
   "outputs": [
    {
     "data": {
      "text/plain": [
       "array(['alpine skiing', 'archery', 'artistic g.', 'athletics',\n",
       "       'badminton', 'baseball', 'basketball', 'basque pelota',\n",
       "       'beach volley.', 'beach volleyball', 'biathlon', 'bmx',\n",
       "       'bobsleigh', 'boxing', 'canoe / kayak f', 'canoe / kayak s',\n",
       "       'canoe slalom', 'canoe sprint', 'cricket', 'croquet',\n",
       "       'cross country skiing', 'curling', 'cycling bmx', 'cycling road',\n",
       "       'cycling track', 'diving', 'dressage', 'eventing', 'fencing',\n",
       "       'figure skating', 'football', 'freestyle skiing', 'golf',\n",
       "       'gymnastics artistic', 'gymnastics rhythmic', 'handball', 'hockey',\n",
       "       'ice hockey', 'jeu de paume', 'judo', 'jumping', 'lacrosse',\n",
       "       'luge', 'marathon swimming', 'modern pentath.',\n",
       "       'modern pentathlon', 'mountain bike', 'nordic combined', 'polo',\n",
       "       'rackets', 'rhythmic g.', 'roque', 'rowing', 'rugby', 'sailing',\n",
       "       'shooting', 'short track speed skating', 'skeleton', 'ski jumping',\n",
       "       'snowboard', 'softball', 'speed skating', 'swimming',\n",
       "       'synchronized s.', 'synchronized swimming', 'table tennis',\n",
       "       'taekwondo', 'tennis', 'trampoline', 'triathlon', 'tug of war',\n",
       "       'vaulting', 'volleyball', 'water motorspor', 'water polo',\n",
       "       'weightlifting', 'wrestling free.', 'wrestling freestyle',\n",
       "       'wrestling gre-r'], dtype=object)"
      ]
     },
     "execution_count": 19,
     "metadata": {},
     "output_type": "execute_result"
    }
   ],
   "source": [
    "Discipline = df_total[\"Discipline\"].unique()\n",
    "Discipline.sort()\n",
    "Discipline"
   ]
  },
  {
   "cell_type": "code",
   "execution_count": 20,
   "metadata": {},
   "outputs": [],
   "source": [
    "df_total = df_total.replace('beach volley.', 'beach volleyball')\n",
    "df_total = df_total.replace('bmx', 'cycling bmx')\n",
    "df_total = df_total.replace('artistic g.', 'gymnastics artistic')\n",
    "df_total = df_total.replace('rhythmic g.', 'gymnastics rhythmic')\n",
    "df_total = df_total.replace('modern pentath.', 'modern pentathlon')\n",
    "df_total = df_total.replace('synchronized s.', 'synchronized swimming')\n",
    "df_total = df_total.replace('wrestling free.', 'wrestling freestyle')\n",
    "df_total = df_total.replace('wrestling gre-r', 'wrestling greco roman')"
   ]
  },
  {
   "cell_type": "code",
   "execution_count": 21,
   "metadata": {},
   "outputs": [],
   "source": [
    "x=df_total.drop([\"Medal\", 'Athlete'],axis=1) #separating the dependent and independent variable columns"
   ]
  },
  {
   "cell_type": "code",
   "execution_count": 22,
   "metadata": {},
   "outputs": [
    {
     "data": {
      "text/plain": [
       "Year          0\n",
       "City          0\n",
       "Sport         0\n",
       "Discipline    0\n",
       "Country       0\n",
       "Gender        0\n",
       "Event         0\n",
       "season        0\n",
       "dtype: int64"
      ]
     },
     "execution_count": 22,
     "metadata": {},
     "output_type": "execute_result"
    }
   ],
   "source": [
    "x.isnull().sum()"
   ]
  },
  {
   "cell_type": "code",
   "execution_count": null,
   "metadata": {},
   "outputs": [],
   "source": []
  },
  {
   "cell_type": "code",
   "execution_count": 23,
   "metadata": {},
   "outputs": [],
   "source": [
    "from sklearn.preprocessing import LabelEncoder"
   ]
  },
  {
   "cell_type": "code",
   "execution_count": 24,
   "metadata": {},
   "outputs": [],
   "source": [
    "lb=LabelEncoder()"
   ]
  },
  {
   "cell_type": "code",
   "execution_count": 25,
   "metadata": {},
   "outputs": [],
   "source": [
    "for col in x.columns:\n",
    "    x[col] = lb.fit_transform(x[col])#transforming all the categorical to numerical data"
   ]
  },
  {
   "cell_type": "code",
   "execution_count": 26,
   "metadata": {},
   "outputs": [
    {
     "data": {
      "text/html": [
       "<div>\n",
       "<style scoped>\n",
       "    .dataframe tbody tr th:only-of-type {\n",
       "        vertical-align: middle;\n",
       "    }\n",
       "\n",
       "    .dataframe tbody tr th {\n",
       "        vertical-align: top;\n",
       "    }\n",
       "\n",
       "    .dataframe thead th {\n",
       "        text-align: right;\n",
       "    }\n",
       "</style>\n",
       "<table border=\"1\" class=\"dataframe\">\n",
       "  <thead>\n",
       "    <tr style=\"text-align: right;\">\n",
       "      <th></th>\n",
       "      <th>Year</th>\n",
       "      <th>City</th>\n",
       "      <th>Sport</th>\n",
       "      <th>Discipline</th>\n",
       "      <th>Country</th>\n",
       "      <th>Gender</th>\n",
       "      <th>Event</th>\n",
       "      <th>season</th>\n",
       "    </tr>\n",
       "  </thead>\n",
       "  <tbody>\n",
       "    <tr>\n",
       "      <th>0</th>\n",
       "      <td>0</td>\n",
       "      <td>3</td>\n",
       "      <td>0</td>\n",
       "      <td>57</td>\n",
       "      <td>58</td>\n",
       "      <td>0</td>\n",
       "      <td>79</td>\n",
       "      <td>0</td>\n",
       "    </tr>\n",
       "    <tr>\n",
       "      <th>1</th>\n",
       "      <td>0</td>\n",
       "      <td>3</td>\n",
       "      <td>0</td>\n",
       "      <td>57</td>\n",
       "      <td>7</td>\n",
       "      <td>0</td>\n",
       "      <td>79</td>\n",
       "      <td>0</td>\n",
       "    </tr>\n",
       "    <tr>\n",
       "      <th>2</th>\n",
       "      <td>0</td>\n",
       "      <td>3</td>\n",
       "      <td>0</td>\n",
       "      <td>57</td>\n",
       "      <td>52</td>\n",
       "      <td>0</td>\n",
       "      <td>80</td>\n",
       "      <td>0</td>\n",
       "    </tr>\n",
       "    <tr>\n",
       "      <th>3</th>\n",
       "      <td>0</td>\n",
       "      <td>3</td>\n",
       "      <td>0</td>\n",
       "      <td>57</td>\n",
       "      <td>52</td>\n",
       "      <td>0</td>\n",
       "      <td>80</td>\n",
       "      <td>0</td>\n",
       "    </tr>\n",
       "    <tr>\n",
       "      <th>4</th>\n",
       "      <td>0</td>\n",
       "      <td>3</td>\n",
       "      <td>0</td>\n",
       "      <td>57</td>\n",
       "      <td>52</td>\n",
       "      <td>0</td>\n",
       "      <td>80</td>\n",
       "      <td>0</td>\n",
       "    </tr>\n",
       "    <tr>\n",
       "      <th>...</th>\n",
       "      <td>...</td>\n",
       "      <td>...</td>\n",
       "      <td>...</td>\n",
       "      <td>...</td>\n",
       "      <td>...</td>\n",
       "      <td>...</td>\n",
       "      <td>...</td>\n",
       "      <td>...</td>\n",
       "    </tr>\n",
       "    <tr>\n",
       "      <th>36930</th>\n",
       "      <td>32</td>\n",
       "      <td>32</td>\n",
       "      <td>37</td>\n",
       "      <td>54</td>\n",
       "      <td>47</td>\n",
       "      <td>1</td>\n",
       "      <td>654</td>\n",
       "      <td>1</td>\n",
       "    </tr>\n",
       "    <tr>\n",
       "      <th>36931</th>\n",
       "      <td>32</td>\n",
       "      <td>32</td>\n",
       "      <td>37</td>\n",
       "      <td>54</td>\n",
       "      <td>140</td>\n",
       "      <td>1</td>\n",
       "      <td>654</td>\n",
       "      <td>1</td>\n",
       "    </tr>\n",
       "    <tr>\n",
       "      <th>36932</th>\n",
       "      <td>32</td>\n",
       "      <td>32</td>\n",
       "      <td>37</td>\n",
       "      <td>54</td>\n",
       "      <td>21</td>\n",
       "      <td>1</td>\n",
       "      <td>655</td>\n",
       "      <td>1</td>\n",
       "    </tr>\n",
       "    <tr>\n",
       "      <th>36933</th>\n",
       "      <td>32</td>\n",
       "      <td>32</td>\n",
       "      <td>37</td>\n",
       "      <td>54</td>\n",
       "      <td>31</td>\n",
       "      <td>1</td>\n",
       "      <td>655</td>\n",
       "      <td>1</td>\n",
       "    </tr>\n",
       "    <tr>\n",
       "      <th>36934</th>\n",
       "      <td>32</td>\n",
       "      <td>32</td>\n",
       "      <td>37</td>\n",
       "      <td>54</td>\n",
       "      <td>44</td>\n",
       "      <td>1</td>\n",
       "      <td>655</td>\n",
       "      <td>1</td>\n",
       "    </tr>\n",
       "  </tbody>\n",
       "</table>\n",
       "<p>36931 rows × 8 columns</p>\n",
       "</div>"
      ],
      "text/plain": [
       "       Year  City  Sport  Discipline  Country  Gender  Event  season\n",
       "0         0     3      0          57       58       0     79       0\n",
       "1         0     3      0          57        7       0     79       0\n",
       "2         0     3      0          57       52       0     80       0\n",
       "3         0     3      0          57       52       0     80       0\n",
       "4         0     3      0          57       52       0     80       0\n",
       "...     ...   ...    ...         ...      ...     ...    ...     ...\n",
       "36930    32    32     37          54       47       1    654       1\n",
       "36931    32    32     37          54      140       1    654       1\n",
       "36932    32    32     37          54       21       1    655       1\n",
       "36933    32    32     37          54       31       1    655       1\n",
       "36934    32    32     37          54       44       1    655       1\n",
       "\n",
       "[36931 rows x 8 columns]"
      ]
     },
     "execution_count": 26,
     "metadata": {},
     "output_type": "execute_result"
    }
   ],
   "source": [
    "x"
   ]
  },
  {
   "cell_type": "code",
   "execution_count": 27,
   "metadata": {},
   "outputs": [],
   "source": [
    "x_corr = x.corr(method = 'spearman')"
   ]
  },
  {
   "cell_type": "code",
   "execution_count": 28,
   "metadata": {},
   "outputs": [
    {
     "data": {
      "image/png": "[encoded data removed]",
      "text/plain": [
       "<Figure size 1440x720 with 2 Axes>"
      ]
     },
     "metadata": {},
     "output_type": "display_data"
    }
   ],
   "source": [
    "plt.figure(figsize = (20, 10))\n",
    "sns.heatmap(x_corr, annot = True, fmt = '.3f', cmap = 'Greys')\n",
    "plt.show(); plt.close()"
   ]
  },
  {
   "cell_type": "code",
   "execution_count": 29,
   "metadata": {},
   "outputs": [],
   "source": [
    "lb2 = LabelEncoder()"
   ]
  },
  {
   "cell_type": "code",
   "execution_count": 30,
   "metadata": {},
   "outputs": [],
   "source": [
    "y_clean = lb2.fit_transform(df_total.iloc[:,-2])"
   ]
  },
  {
   "cell_type": "code",
   "execution_count": 31,
   "metadata": {},
   "outputs": [
    {
     "name": "stdout",
     "output_type": "stream",
     "text": [
      "Counter({1: 12405, 0: 12288, 2: 12238})\n"
     ]
    }
   ],
   "source": [
    "print(Counter(y_clean))"
   ]
  },
  {
   "cell_type": "code",
   "execution_count": 32,
   "metadata": {},
   "outputs": [
    {
     "data": {
      "image/png": "[encoded data removed]",
      "text/plain": [
       "<Figure size 720x720 with 1 Axes>"
      ]
     },
     "metadata": {},
     "output_type": "display_data"
    }
   ],
   "source": [
    "d = Counter(y_clean)\n",
    "plt.style.use('dark_background')\n",
    "plt.figure(figsize = (10, 10))\n",
    "\n",
    "plt.xlabel('Class', fontsize = 25, fontfamily = 'fantasy')\n",
    "plt.ylabel('Class Population', fontsize = 25, fontfamily = 'fantasy')\n",
    "plt.title('Class Distribution', fontsize = 30, pad = 20, fontfamily = 'fantasy')\n",
    "\n",
    "sns.barplot([0, 1, 2], [d[0], d[1], d[2]])\n",
    "plt.show()"
   ]
  },
  {
   "cell_type": "markdown",
   "metadata": {},
   "source": [
    "The classes are relatively well-balanced."
   ]
  },
  {
   "cell_type": "code",
   "execution_count": 33,
   "metadata": {},
   "outputs": [],
   "source": [
    "from sklearn.model_selection import train_test_split"
   ]
  },
  {
   "cell_type": "code",
   "execution_count": 34,
   "metadata": {},
   "outputs": [],
   "source": [
    "x_train,x_test,y_train,y_test = train_test_split(x,y_clean, stratify = y_clean, test_size=0.2,random_state =50)"
   ]
  },
  {
   "cell_type": "code",
   "execution_count": 35,
   "metadata": {},
   "outputs": [],
   "source": [
    "from sklearn.metrics import confusion_matrix # TOOLS TO CHECK ACCURACY\n",
    "from sklearn import metrics"
   ]
  },
  {
   "cell_type": "markdown",
   "metadata": {},
   "source": [
    "NOW LET'S TRY DIFFERENT ALGORITHMS THAT SUPPORT MULTICLASS CLASSIFICATION"
   ]
  },
  {
   "cell_type": "markdown",
   "metadata": {},
   "source": [
    "# LOGISTIC REGRESSION"
   ]
  },
  {
   "cell_type": "code",
   "execution_count": 36,
   "metadata": {},
   "outputs": [],
   "source": [
    "from sklearn.linear_model import LogisticRegression"
   ]
  },
  {
   "cell_type": "code",
   "execution_count": 37,
   "metadata": {},
   "outputs": [],
   "source": [
    "classifier_log = LogisticRegression(C = 2.0, solver = 'newton-cg', random_state =0,max_iter =200)"
   ]
  },
  {
   "cell_type": "code",
   "execution_count": 38,
   "metadata": {},
   "outputs": [
    {
     "data": {
      "text/plain": [
       "LogisticRegression(C=2.0, max_iter=200, random_state=0, solver='newton-cg')"
      ]
     },
     "execution_count": 38,
     "metadata": {},
     "output_type": "execute_result"
    }
   ],
   "source": [
    "classifier_log.fit(x_train,y_train)"
   ]
  },
  {
   "cell_type": "code",
   "execution_count": 39,
   "metadata": {},
   "outputs": [],
   "source": [
    "y_pred_log = classifier_log.predict(x_test)"
   ]
  },
  {
   "cell_type": "code",
   "execution_count": 40,
   "metadata": {},
   "outputs": [
    {
     "data": {
      "text/plain": [
       "array([[1005, 1011,  442],\n",
       "       [ 819, 1160,  502],\n",
       "       [ 936,  999,  513]], dtype=int64)"
      ]
     },
     "execution_count": 40,
     "metadata": {},
     "output_type": "execute_result"
    }
   ],
   "source": [
    "confusion_matrix(y_test,y_pred_log)"
   ]
  },
  {
   "cell_type": "code",
   "execution_count": 41,
   "metadata": {},
   "outputs": [
    {
     "data": {
      "text/plain": [
       "0.35677441364330553"
      ]
     },
     "execution_count": 41,
     "metadata": {},
     "output_type": "execute_result"
    }
   ],
   "source": [
    "metrics.f1_score(y_train,classifier_log.predict(x_train),average=\"macro\")"
   ]
  },
  {
   "cell_type": "code",
   "execution_count": 42,
   "metadata": {},
   "outputs": [
    {
     "data": {
      "text/plain": [
       "0.35283064736979525"
      ]
     },
     "execution_count": 42,
     "metadata": {},
     "output_type": "execute_result"
    }
   ],
   "source": [
    "metrics.f1_score(y_test,y_pred_log,average=\"macro\")"
   ]
  },
  {
   "cell_type": "code",
   "execution_count": null,
   "metadata": {},
   "outputs": [],
   "source": []
  },
  {
   "cell_type": "markdown",
   "metadata": {},
   "source": [
    "# K NEIGHBORS CLASSIFIER"
   ]
  },
  {
   "cell_type": "code",
   "execution_count": 43,
   "metadata": {},
   "outputs": [],
   "source": [
    "from sklearn.neighbors import KNeighborsClassifier"
   ]
  },
  {
   "cell_type": "code",
   "execution_count": 44,
   "metadata": {},
   "outputs": [],
   "source": [
    "classifier_KNN = KNeighborsClassifier(weights = 'distance')"
   ]
  },
  {
   "cell_type": "code",
   "execution_count": 45,
   "metadata": {},
   "outputs": [
    {
     "data": {
      "text/plain": [
       "KNeighborsClassifier(weights='distance')"
      ]
     },
     "execution_count": 45,
     "metadata": {},
     "output_type": "execute_result"
    }
   ],
   "source": [
    "classifier_KNN.fit(x_train,y_train)"
   ]
  },
  {
   "cell_type": "code",
   "execution_count": 46,
   "metadata": {},
   "outputs": [],
   "source": [
    "y_pred_KNN = classifier_KNN.predict(x_test)"
   ]
  },
  {
   "cell_type": "code",
   "execution_count": 47,
   "metadata": {},
   "outputs": [
    {
     "data": {
      "text/plain": [
       "array([[1743,  401,  314],\n",
       "       [ 377, 1779,  325],\n",
       "       [ 394,  368, 1686]], dtype=int64)"
      ]
     },
     "execution_count": 47,
     "metadata": {},
     "output_type": "execute_result"
    }
   ],
   "source": [
    "confusion_matrix(y_test,y_pred_KNN)"
   ]
  },
  {
   "cell_type": "markdown",
   "metadata": {},
   "source": [
    "True positives are the values on the diagonal"
   ]
  },
  {
   "cell_type": "code",
   "execution_count": 48,
   "metadata": {},
   "outputs": [
    {
     "data": {
      "text/plain": [
       "0.9450086449438966"
      ]
     },
     "execution_count": 48,
     "metadata": {},
     "output_type": "execute_result"
    }
   ],
   "source": [
    "metrics.f1_score(y_train,classifier_KNN.predict(x_train),average=\"macro\")"
   ]
  },
  {
   "cell_type": "code",
   "execution_count": 49,
   "metadata": {},
   "outputs": [
    {
     "data": {
      "text/plain": [
       "0.7050322477600592"
      ]
     },
     "execution_count": 49,
     "metadata": {},
     "output_type": "execute_result"
    }
   ],
   "source": [
    "metrics.f1_score(y_test,y_pred_KNN,average=\"macro\") # THE CLOSER THE F1 SCORE TO 1, THE MORE SIGNIFICANT THE MODEL"
   ]
  },
  {
   "cell_type": "code",
   "execution_count": null,
   "metadata": {},
   "outputs": [],
   "source": []
  },
  {
   "cell_type": "markdown",
   "metadata": {},
   "source": [
    "# NAIVE BAYES CLASSIFIER"
   ]
  },
  {
   "cell_type": "code",
   "execution_count": 50,
   "metadata": {},
   "outputs": [],
   "source": [
    "from sklearn.naive_bayes import GaussianNB"
   ]
  },
  {
   "cell_type": "code",
   "execution_count": 51,
   "metadata": {},
   "outputs": [],
   "source": [
    "classifier_naive = GaussianNB(var_smoothing=1e-09)"
   ]
  },
  {
   "cell_type": "code",
   "execution_count": 52,
   "metadata": {},
   "outputs": [
    {
     "data": {
      "text/plain": [
       "GaussianNB()"
      ]
     },
     "execution_count": 52,
     "metadata": {},
     "output_type": "execute_result"
    }
   ],
   "source": [
    "classifier_naive.fit(x_train,y_train)"
   ]
  },
  {
   "cell_type": "code",
   "execution_count": 53,
   "metadata": {},
   "outputs": [],
   "source": [
    "y_pred_naive = classifier_naive.predict(x_test)"
   ]
  },
  {
   "cell_type": "code",
   "execution_count": 54,
   "metadata": {},
   "outputs": [
    {
     "data": {
      "text/plain": [
       "array([[1204,  934,  320],\n",
       "       [1020, 1101,  360],\n",
       "       [1161,  918,  369]], dtype=int64)"
      ]
     },
     "execution_count": 54,
     "metadata": {},
     "output_type": "execute_result"
    }
   ],
   "source": [
    "confusion_matrix(y_test,y_pred_naive)"
   ]
  },
  {
   "cell_type": "code",
   "execution_count": 55,
   "metadata": {},
   "outputs": [
    {
     "data": {
      "text/plain": [
       "0.345896977576526"
      ]
     },
     "execution_count": 55,
     "metadata": {},
     "output_type": "execute_result"
    }
   ],
   "source": [
    "metrics.f1_score(y_train,classifier_naive.predict(x_train),average=\"macro\")"
   ]
  },
  {
   "cell_type": "code",
   "execution_count": 56,
   "metadata": {},
   "outputs": [
    {
     "data": {
      "text/plain": [
       "0.3427938161155449"
      ]
     },
     "execution_count": 56,
     "metadata": {},
     "output_type": "execute_result"
    }
   ],
   "source": [
    "metrics.f1_score(y_test,y_pred_naive,average=\"macro\")"
   ]
  },
  {
   "cell_type": "code",
   "execution_count": null,
   "metadata": {},
   "outputs": [],
   "source": []
  },
  {
   "cell_type": "markdown",
   "metadata": {},
   "source": [
    "# DECISION TREE CLASSIFIER"
   ]
  },
  {
   "cell_type": "code",
   "execution_count": 57,
   "metadata": {},
   "outputs": [],
   "source": [
    "from sklearn.tree import DecisionTreeClassifier"
   ]
  },
  {
   "cell_type": "code",
   "execution_count": 58,
   "metadata": {},
   "outputs": [],
   "source": [
    "classifier_dectree = DecisionTreeClassifier(criterion = \"entropy\",random_state =0)"
   ]
  },
  {
   "cell_type": "code",
   "execution_count": 59,
   "metadata": {},
   "outputs": [
    {
     "data": {
      "text/plain": [
       "DecisionTreeClassifier(criterion='entropy', random_state=0)"
      ]
     },
     "execution_count": 59,
     "metadata": {},
     "output_type": "execute_result"
    }
   ],
   "source": [
    "classifier_dectree.fit(x_train,y_train)"
   ]
  },
  {
   "cell_type": "code",
   "execution_count": 60,
   "metadata": {},
   "outputs": [],
   "source": [
    "y_pred_dectree = classifier_dectree.predict(x_test)"
   ]
  },
  {
   "cell_type": "code",
   "execution_count": 61,
   "metadata": {},
   "outputs": [
    {
     "data": {
      "text/plain": [
       "array([[1750,  412,  296],\n",
       "       [ 387, 1785,  309],\n",
       "       [ 416,  373, 1659]], dtype=int64)"
      ]
     },
     "execution_count": 61,
     "metadata": {},
     "output_type": "execute_result"
    }
   ],
   "source": [
    "confusion_matrix(y_test,y_pred_dectree)"
   ]
  },
  {
   "cell_type": "code",
   "execution_count": 62,
   "metadata": {},
   "outputs": [
    {
     "data": {
      "text/plain": [
       "0.945188832369552"
      ]
     },
     "execution_count": 62,
     "metadata": {},
     "output_type": "execute_result"
    }
   ],
   "source": [
    "metrics.f1_score(y_train,classifier_dectree.predict(x_train),average=\"macro\")"
   ]
  },
  {
   "cell_type": "code",
   "execution_count": 63,
   "metadata": {},
   "outputs": [
    {
     "data": {
      "text/plain": [
       "0.7031379025334972"
      ]
     },
     "execution_count": 63,
     "metadata": {},
     "output_type": "execute_result"
    }
   ],
   "source": [
    "metrics.f1_score(y_test,y_pred_dectree,average=\"macro\")"
   ]
  },
  {
   "cell_type": "code",
   "execution_count": 64,
   "metadata": {},
   "outputs": [
    {
     "name": "stdout",
     "output_type": "stream",
     "text": [
      "              precision    recall  f1-score   support\n",
      "\n",
      "           0       0.69      0.71      0.70      2458\n",
      "           1       0.69      0.72      0.71      2481\n",
      "           2       0.73      0.68      0.70      2448\n",
      "\n",
      "    accuracy                           0.70      7387\n",
      "   macro avg       0.70      0.70      0.70      7387\n",
      "weighted avg       0.70      0.70      0.70      7387\n",
      "\n"
     ]
    }
   ],
   "source": [
    "print(metrics.classification_report(y_test,y_pred_dectree))"
   ]
  },
  {
   "cell_type": "code",
   "execution_count": null,
   "metadata": {},
   "outputs": [],
   "source": []
  },
  {
   "cell_type": "markdown",
   "metadata": {},
   "source": [
    "# RANDOM FOREST CLASSIFIER"
   ]
  },
  {
   "cell_type": "code",
   "execution_count": 65,
   "metadata": {},
   "outputs": [],
   "source": [
    "from sklearn.ensemble import RandomForestClassifier"
   ]
  },
  {
   "cell_type": "code",
   "execution_count": 66,
   "metadata": {},
   "outputs": [],
   "source": [
    "classifier_forest = RandomForestClassifier(criterion=\"entropy\",max_depth=None,\n",
    "                                           max_features= 5, min_samples_leaf= 1,\n",
    "                                           min_samples_split= 2,n_estimators=400, warm_start = True)"
   ]
  },
  {
   "cell_type": "code",
   "execution_count": 67,
   "metadata": {},
   "outputs": [
    {
     "data": {
      "text/plain": [
       "RandomForestClassifier(criterion='entropy', max_features=5, n_estimators=400,\n",
       "                       warm_start=True)"
      ]
     },
     "execution_count": 67,
     "metadata": {},
     "output_type": "execute_result"
    }
   ],
   "source": [
    "classifier_forest.fit(x_train,y_train)"
   ]
  },
  {
   "cell_type": "code",
   "execution_count": 68,
   "metadata": {},
   "outputs": [],
   "source": [
    "y_pred_forest = classifier_forest.predict(x_test)"
   ]
  },
  {
   "cell_type": "code",
   "execution_count": 69,
   "metadata": {},
   "outputs": [
    {
     "data": {
      "text/plain": [
       "0.9453260144391432"
      ]
     },
     "execution_count": 69,
     "metadata": {},
     "output_type": "execute_result"
    }
   ],
   "source": [
    "metrics.f1_score(y_train,classifier_forest.predict(x_train),average=\"macro\")"
   ]
  },
  {
   "cell_type": "code",
   "execution_count": 70,
   "metadata": {},
   "outputs": [
    {
     "data": {
      "text/plain": [
       "0.7007068943105391"
      ]
     },
     "execution_count": 70,
     "metadata": {},
     "output_type": "execute_result"
    }
   ],
   "source": [
    "random_forest_score = metrics.f1_score(y_test,y_pred_forest,average=\"macro\")\n",
    "random_forest_score"
   ]
  },
  {
   "cell_type": "code",
   "execution_count": 71,
   "metadata": {},
   "outputs": [
    {
     "data": {
      "text/plain": [
       "array([[1727,  367,  364],\n",
       "       [ 353, 1781,  347],\n",
       "       [ 403,  376, 1669]], dtype=int64)"
      ]
     },
     "execution_count": 71,
     "metadata": {},
     "output_type": "execute_result"
    }
   ],
   "source": [
    "confusion_matrix(y_test,y_pred_forest)"
   ]
  },
  {
   "cell_type": "code",
   "execution_count": 72,
   "metadata": {},
   "outputs": [
    {
     "name": "stdout",
     "output_type": "stream",
     "text": [
      "              precision    recall  f1-score   support\n",
      "\n",
      "           0       0.70      0.70      0.70      2458\n",
      "           1       0.71      0.72      0.71      2481\n",
      "           2       0.70      0.68      0.69      2448\n",
      "\n",
      "    accuracy                           0.70      7387\n",
      "   macro avg       0.70      0.70      0.70      7387\n",
      "weighted avg       0.70      0.70      0.70      7387\n",
      "\n"
     ]
    }
   ],
   "source": [
    "print(metrics.classification_report(y_test,y_pred_forest))"
   ]
  },
  {
   "cell_type": "code",
   "execution_count": null,
   "metadata": {},
   "outputs": [],
   "source": []
  },
  {
   "cell_type": "markdown",
   "metadata": {},
   "source": [
    "# GRADIENT BOOSTING CLASSIFIER"
   ]
  },
  {
   "cell_type": "code",
   "execution_count": 73,
   "metadata": {},
   "outputs": [],
   "source": [
    "from sklearn.ensemble import GradientBoostingClassifier"
   ]
  },
  {
   "cell_type": "code",
   "execution_count": 74,
   "metadata": {},
   "outputs": [],
   "source": [
    "classifier_GBC = GradientBoostingClassifier(random_state=2)\n",
    "classifier_GBC.fit(x_train,y_train)\n",
    "y_pred_GBC = classifier_GBC.predict(x_test)"
   ]
  },
  {
   "cell_type": "code",
   "execution_count": 75,
   "metadata": {},
   "outputs": [
    {
     "data": {
      "text/plain": [
       "0.4661028006741561"
      ]
     },
     "execution_count": 75,
     "metadata": {},
     "output_type": "execute_result"
    }
   ],
   "source": [
    "metrics.f1_score(y_train,classifier_GBC.predict(x_train),average=\"macro\")"
   ]
  },
  {
   "cell_type": "code",
   "execution_count": 76,
   "metadata": {},
   "outputs": [
    {
     "data": {
      "text/plain": [
       "0.4507046722492436"
      ]
     },
     "execution_count": 76,
     "metadata": {},
     "output_type": "execute_result"
    }
   ],
   "source": [
    "metrics.f1_score(y_test,y_pred_GBC,average=\"macro\")"
   ]
  },
  {
   "cell_type": "code",
   "execution_count": 77,
   "metadata": {},
   "outputs": [
    {
     "data": {
      "text/plain": [
       "array([[1266,  687,  505],\n",
       "       [ 704, 1270,  507],\n",
       "       [ 921,  703,  824]], dtype=int64)"
      ]
     },
     "execution_count": 77,
     "metadata": {},
     "output_type": "execute_result"
    }
   ],
   "source": [
    "metrics.confusion_matrix(y_test,y_pred_GBC)"
   ]
  },
  {
   "cell_type": "code",
   "execution_count": null,
   "metadata": {},
   "outputs": [],
   "source": []
  },
  {
   "cell_type": "markdown",
   "metadata": {},
   "source": [
    "# BAGGING CLASSIFIER"
   ]
  },
  {
   "cell_type": "code",
   "execution_count": 78,
   "metadata": {},
   "outputs": [],
   "source": [
    "from sklearn.ensemble import BaggingClassifier"
   ]
  },
  {
   "cell_type": "code",
   "execution_count": 79,
   "metadata": {},
   "outputs": [],
   "source": [
    "classifier_BC = BaggingClassifier(n_jobs=-1,random_state =3,n_estimators=150,\n",
    "                                  base_estimator = DecisionTreeClassifier(criterion=\"entropy\",max_depth = None,\n",
    "                                                                          min_samples_leaf= 1, min_samples_split= 2))\n",
    "classifier_BC.fit(x_train,y_train)\n",
    "y_pred_BC = classifier_BC.predict(x_test)"
   ]
  },
  {
   "cell_type": "code",
   "execution_count": 80,
   "metadata": {},
   "outputs": [
    {
     "data": {
      "text/plain": [
       "0.945323400159442"
      ]
     },
     "execution_count": 80,
     "metadata": {},
     "output_type": "execute_result"
    }
   ],
   "source": [
    "metrics.f1_score(y_train,classifier_BC.predict(x_train),average=\"macro\")"
   ]
  },
  {
   "cell_type": "code",
   "execution_count": 81,
   "metadata": {},
   "outputs": [
    {
     "data": {
      "text/plain": [
       "0.7024802735229495"
      ]
     },
     "execution_count": 81,
     "metadata": {},
     "output_type": "execute_result"
    }
   ],
   "source": [
    "bagging_classifier_score =metrics.f1_score(y_test,y_pred_BC,average=\"macro\")\n",
    "bagging_classifier_score"
   ]
  },
  {
   "cell_type": "code",
   "execution_count": 82,
   "metadata": {},
   "outputs": [
    {
     "data": {
      "text/plain": [
       "array([[1743,  363,  352],\n",
       "       [ 359, 1776,  346],\n",
       "       [ 393,  384, 1671]], dtype=int64)"
      ]
     },
     "execution_count": 82,
     "metadata": {},
     "output_type": "execute_result"
    }
   ],
   "source": [
    "metrics.confusion_matrix(y_test,y_pred_BC)"
   ]
  },
  {
   "cell_type": "code",
   "execution_count": 83,
   "metadata": {},
   "outputs": [
    {
     "name": "stdout",
     "output_type": "stream",
     "text": [
      "              precision    recall  f1-score   support\n",
      "\n",
      "           0       0.70      0.71      0.70      2458\n",
      "           1       0.70      0.72      0.71      2481\n",
      "           2       0.71      0.68      0.69      2448\n",
      "\n",
      "    accuracy                           0.70      7387\n",
      "   macro avg       0.70      0.70      0.70      7387\n",
      "weighted avg       0.70      0.70      0.70      7387\n",
      "\n"
     ]
    }
   ],
   "source": [
    "print(metrics.classification_report(y_test,y_pred_BC))"
   ]
  },
  {
   "cell_type": "code",
   "execution_count": null,
   "metadata": {},
   "outputs": [],
   "source": []
  },
  {
   "cell_type": "markdown",
   "metadata": {},
   "source": [
    "# EXTRA TREE CLASSIFIER"
   ]
  },
  {
   "cell_type": "code",
   "execution_count": 84,
   "metadata": {},
   "outputs": [],
   "source": [
    "from sklearn.tree import ExtraTreeClassifier"
   ]
  },
  {
   "cell_type": "code",
   "execution_count": 85,
   "metadata": {},
   "outputs": [],
   "source": [
    "classifier_ETC = ExtraTreeClassifier(criterion = 'entropy', max_features = 5, splitter = 'best',\n",
    "                                     random_state =3)\n",
    "classifier_ETC.fit(x_train,y_train)\n",
    "y_pred_ETC = classifier_ETC.predict(x_test)"
   ]
  },
  {
   "cell_type": "code",
   "execution_count": 86,
   "metadata": {},
   "outputs": [
    {
     "data": {
      "text/plain": [
       "0.945188832369552"
      ]
     },
     "execution_count": 86,
     "metadata": {},
     "output_type": "execute_result"
    }
   ],
   "source": [
    "metrics.f1_score(y_train,classifier_ETC.predict(x_train),average=\"macro\")"
   ]
  },
  {
   "cell_type": "code",
   "execution_count": 87,
   "metadata": {},
   "outputs": [
    {
     "data": {
      "text/plain": [
       "0.7056545692408044"
      ]
     },
     "execution_count": 87,
     "metadata": {},
     "output_type": "execute_result"
    }
   ],
   "source": [
    "metrics.f1_score(y_test,y_pred_ETC,average=\"macro\")"
   ]
  },
  {
   "cell_type": "code",
   "execution_count": 88,
   "metadata": {},
   "outputs": [
    {
     "data": {
      "text/plain": [
       "array([[1750,  388,  320],\n",
       "       [ 374, 1791,  316],\n",
       "       [ 426,  350, 1672]], dtype=int64)"
      ]
     },
     "execution_count": 88,
     "metadata": {},
     "output_type": "execute_result"
    }
   ],
   "source": [
    "metrics.confusion_matrix(y_test,y_pred_ETC)"
   ]
  },
  {
   "cell_type": "code",
   "execution_count": null,
   "metadata": {},
   "outputs": [],
   "source": []
  },
  {
   "cell_type": "code",
   "execution_count": null,
   "metadata": {},
   "outputs": [],
   "source": []
  },
  {
   "cell_type": "markdown",
   "metadata": {},
   "source": [
    "# LET'S OPTIMIZE DECISION TREE"
   ]
  },
  {
   "cell_type": "markdown",
   "metadata": {},
   "source": [
    "from sklearn.model_selection import GridSearchCV"
   ]
  },
  {
   "cell_type": "markdown",
   "metadata": {},
   "source": [
    "classifier_dtree_grid = DecisionTreeClassifier(criterion=\"entropy\")"
   ]
  },
  {
   "cell_type": "markdown",
   "metadata": {},
   "source": [
    "parameters_dtree = [{\"max_depth\" : [None,1,2,5,7,9],\"min_samples_leaf\":[1,2,4],\"min_samples_split\":[2,4,6,8]}]\n",
    "\n",
    "grid_search_dtree = GridSearchCV(estimator = classifier_dtree_grid ,param_grid = parameters_dtree, n_jobs=-1,cv=10)"
   ]
  },
  {
   "cell_type": "markdown",
   "metadata": {},
   "source": [
    "grid_search_dtree = grid_search_dtree.fit(x_train,y_train)"
   ]
  },
  {
   "cell_type": "markdown",
   "metadata": {},
   "source": [
    "y_pred_tree_grid = grid_search_dtree.predict(x_test)"
   ]
  },
  {
   "cell_type": "markdown",
   "metadata": {},
   "source": [
    "metrics.f1_score(y_test,y_pred_tree_grid,average=\"macro\")"
   ]
  },
  {
   "cell_type": "markdown",
   "metadata": {},
   "source": [
    "grid_search_dtree.best_params_"
   ]
  },
  {
   "cell_type": "markdown",
   "metadata": {},
   "source": [
    "NOW LET'S IMPLEMENT IN THE MODEL"
   ]
  },
  {
   "cell_type": "code",
   "execution_count": 89,
   "metadata": {},
   "outputs": [],
   "source": [
    "classifier_dtree_grid_best = DecisionTreeClassifier(criterion='entropy',max_depth = None,\n",
    "                                                    min_samples_leaf= 1, min_samples_split= 2)"
   ]
  },
  {
   "cell_type": "code",
   "execution_count": 90,
   "metadata": {},
   "outputs": [
    {
     "data": {
      "text/plain": [
       "DecisionTreeClassifier(criterion='entropy')"
      ]
     },
     "execution_count": 90,
     "metadata": {},
     "output_type": "execute_result"
    }
   ],
   "source": [
    "classifier_dtree_grid_best.fit(x_train,y_train)"
   ]
  },
  {
   "cell_type": "code",
   "execution_count": 91,
   "metadata": {},
   "outputs": [],
   "source": [
    "y_pred_tree_grid_best = classifier_dtree_grid_best.predict(x_test)"
   ]
  },
  {
   "cell_type": "code",
   "execution_count": 92,
   "metadata": {},
   "outputs": [
    {
     "data": {
      "text/plain": [
       "0.7031185394906738"
      ]
     },
     "execution_count": 92,
     "metadata": {},
     "output_type": "execute_result"
    }
   ],
   "source": [
    "decision_tree_score = metrics.f1_score(y_test,y_pred_tree_grid_best,average=\"macro\")\n",
    "decision_tree_score"
   ]
  },
  {
   "cell_type": "code",
   "execution_count": 93,
   "metadata": {},
   "outputs": [
    {
     "name": "stdout",
     "output_type": "stream",
     "text": [
      "              precision    recall  f1-score   support\n",
      "\n",
      "           0       0.69      0.72      0.70      2458\n",
      "           1       0.69      0.72      0.71      2481\n",
      "           2       0.73      0.68      0.70      2448\n",
      "\n",
      "    accuracy                           0.70      7387\n",
      "   macro avg       0.70      0.70      0.70      7387\n",
      "weighted avg       0.70      0.70      0.70      7387\n",
      "\n"
     ]
    }
   ],
   "source": [
    "print(metrics.classification_report(y_test,y_pred_tree_grid_best))"
   ]
  },
  {
   "cell_type": "markdown",
   "metadata": {},
   "source": [
    "# SO FAR...OUR BEST MODELS WERE DERIVED WITH RANDOM FOREST, DECISION TREE AND BAGGING CLASSIFIER "
   ]
  },
  {
   "cell_type": "raw",
   "metadata": {},
   "source": []
  },
  {
   "cell_type": "markdown",
   "metadata": {},
   "source": [
    "# WITHOUT CROSS VALIDATION"
   ]
  },
  {
   "cell_type": "code",
   "execution_count": 94,
   "metadata": {},
   "outputs": [],
   "source": [
    "classifier_df = pd.DataFrame(data = np.array([bagging_classifier_score,random_forest_score,decision_tree_score]),\n",
    "                             columns = [\"F1-Scores(Macro)\"],\n",
    "                             index=[\"Bagging Classifier\",\"Random_Forest\",\"Decision Tree\"])"
   ]
  },
  {
   "cell_type": "code",
   "execution_count": 95,
   "metadata": {},
   "outputs": [
    {
     "data": {
      "text/html": [
       "<div>\n",
       "<style scoped>\n",
       "    .dataframe tbody tr th:only-of-type {\n",
       "        vertical-align: middle;\n",
       "    }\n",
       "\n",
       "    .dataframe tbody tr th {\n",
       "        vertical-align: top;\n",
       "    }\n",
       "\n",
       "    .dataframe thead th {\n",
       "        text-align: right;\n",
       "    }\n",
       "</style>\n",
       "<table border=\"1\" class=\"dataframe\">\n",
       "  <thead>\n",
       "    <tr style=\"text-align: right;\">\n",
       "      <th></th>\n",
       "      <th>F1-Scores(Macro)</th>\n",
       "    </tr>\n",
       "  </thead>\n",
       "  <tbody>\n",
       "    <tr>\n",
       "      <th>Bagging Classifier</th>\n",
       "      <td>0.702480</td>\n",
       "    </tr>\n",
       "    <tr>\n",
       "      <th>Random_Forest</th>\n",
       "      <td>0.700707</td>\n",
       "    </tr>\n",
       "    <tr>\n",
       "      <th>Decision Tree</th>\n",
       "      <td>0.703119</td>\n",
       "    </tr>\n",
       "  </tbody>\n",
       "</table>\n",
       "</div>"
      ],
      "text/plain": [
       "                    F1-Scores(Macro)\n",
       "Bagging Classifier          0.702480\n",
       "Random_Forest               0.700707\n",
       "Decision Tree               0.703119"
      ]
     },
     "execution_count": 95,
     "metadata": {},
     "output_type": "execute_result"
    }
   ],
   "source": [
    "classifier_df"
   ]
  },
  {
   "cell_type": "code",
   "execution_count": null,
   "metadata": {},
   "outputs": [],
   "source": []
  },
  {
   "cell_type": "markdown",
   "metadata": {},
   "source": [
    "# Attempt at Ensemble Learning"
   ]
  },
  {
   "cell_type": "code",
   "execution_count": 96,
   "metadata": {},
   "outputs": [],
   "source": [
    "from sklearn.ensemble import VotingClassifier"
   ]
  },
  {
   "cell_type": "code",
   "execution_count": 97,
   "metadata": {},
   "outputs": [
    {
     "data": {
      "text/plain": [
       "VotingClassifier(estimators=[('DecTree1',\n",
       "                              DecisionTreeClassifier(criterion='entropy',\n",
       "                                                     random_state=0)),\n",
       "                             ('DecTree2',\n",
       "                              DecisionTreeClassifier(criterion='entropy')),\n",
       "                             ('RFC',\n",
       "                              RandomForestClassifier(criterion='entropy',\n",
       "                                                     max_features=5,\n",
       "                                                     n_estimators=400,\n",
       "                                                     warm_start=True)),\n",
       "                             ('KNN', KNeighborsClassifier(weights='distance')),\n",
       "                             ('BagCLF',\n",
       "                              BaggingClassifier(base_estimator=DecisionTreeClassifier(criterion='entropy'),\n",
       "                                                n_estimators=150, n_jobs=-1,\n",
       "                                                random_state=3)),\n",
       "                             ('ETC',\n",
       "                              ExtraTreeClassifier(criterion='entropy',\n",
       "                                                  max_features=5,\n",
       "                                                  random_state=3,\n",
       "                                                  splitter='best'))],\n",
       "                 n_jobs=-1, weights=[3, 2, 4, 3, 4, 6])"
      ]
     },
     "execution_count": 97,
     "metadata": {},
     "output_type": "execute_result"
    }
   ],
   "source": [
    "weights = [3, 2, 4, 3, 4, 6]\n",
    "voting_clf = VotingClassifier(estimators = [('DecTree1', classifier_dectree),\n",
    "                                            ('DecTree2', classifier_dtree_grid_best),\n",
    "                                            ('RFC', classifier_forest), ('KNN', classifier_KNN),\n",
    "                                            ('BagCLF', classifier_BC), ('ETC', classifier_ETC)],\n",
    "                              weights = weights,\n",
    "                              n_jobs = -1)\n",
    "voting_clf.fit(x_train, y_train)"
   ]
  },
  {
   "cell_type": "code",
   "execution_count": 98,
   "metadata": {},
   "outputs": [],
   "source": [
    "y_pred_vote = voting_clf.predict(x_test)"
   ]
  },
  {
   "cell_type": "code",
   "execution_count": 99,
   "metadata": {},
   "outputs": [
    {
     "data": {
      "text/plain": [
       "0.945188832369552"
      ]
     },
     "execution_count": 99,
     "metadata": {},
     "output_type": "execute_result"
    }
   ],
   "source": [
    "metrics.f1_score(y_train,voting_clf.predict(x_train),average=\"macro\")"
   ]
  },
  {
   "cell_type": "code",
   "execution_count": 100,
   "metadata": {},
   "outputs": [
    {
     "data": {
      "text/plain": [
       "0.7039790218798285"
      ]
     },
     "execution_count": 100,
     "metadata": {},
     "output_type": "execute_result"
    }
   ],
   "source": [
    "metrics.f1_score(y_test,y_pred_vote,average=\"macro\")"
   ]
  },
  {
   "cell_type": "code",
   "execution_count": 101,
   "metadata": {},
   "outputs": [],
   "source": [
    "joblib.dump(voting_clf, open('voting_clf_artefact.pkl', 'wb'))"
   ]
  },
  {
   "cell_type": "code",
   "execution_count": 102,
   "metadata": {},
   "outputs": [],
   "source": [
    "joblib.dump(classifier_ETC, open('ETC_clf_artefact.pkl', 'wb'))"
   ]
  },
  {
   "cell_type": "code",
   "execution_count": null,
   "metadata": {},
   "outputs": [],
   "source": []
  }
 ],
 "metadata": {
  "kernelspec": {
   "display_name": "Python 3",
   "language": "python",
   "name": "python3"
  },
  "language_info": {
   "codemirror_mode": {
    "name": "ipython",
    "version": 3
   },
   "file_extension": ".py",
   "mimetype": "text/x-python",
   "name": "python",
   "nbconvert_exporter": "python",
   "pygments_lexer": "ipython3",
   "version": "3.8.3"
  }
 },
 "nbformat": 4,
 "nbformat_minor": 2
}
